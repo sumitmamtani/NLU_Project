{
  "cells": [
    {
      "cell_type": "code",
      "execution_count": null,
      "metadata": {
        "id": "amYXxjVB2Z2O"
      },
      "outputs": [],
      "source": [
        "import json\n",
        "import pandas as pd"
      ]
    },
    {
      "cell_type": "code",
      "execution_count": null,
      "metadata": {
        "id": "FQrwTpfT2Z2O",
        "outputId": "db394f0f-69de-4ecd-fc92-4bfa24366a7f"
      },
      "outputs": [
        {
          "name": "stdout",
          "output_type": "stream",
          "text": [
            "Defaulting to user installation because normal site-packages is not writeable\n",
            "Processing /scratch/sm9669/simpleT5-main\n",
            "Requirement already satisfied: numpy in /share/apps/python/3.8.6/intel/lib/python3.8/site-packages/numpy-1.19.2-py3.8-linux-x86_64.egg (from simplet5==0.1.4) (1.19.2)\n",
            "Requirement already satisfied: pandas in /share/apps/python/3.8.6/intel/lib/python3.8/site-packages (from simplet5==0.1.4) (1.1.3)\n",
            "Requirement already satisfied: sentencepiece in /home/sm9669/.local/lib/python3.8/site-packages (from simplet5==0.1.4) (0.1.96)\n",
            "Requirement already satisfied: torch!=1.8.0,>=1.7.0 in /home/sm9669/.local/lib/python3.8/site-packages (from simplet5==0.1.4) (1.11.0)\n",
            "Collecting transformers==4.16.2\n",
            "  Using cached transformers-4.16.2-py3-none-any.whl (3.5 MB)\n",
            "Requirement already satisfied: pytorch-lightning==1.5.10 in /home/sm9669/.local/lib/python3.8/site-packages (from simplet5==0.1.4) (1.5.10)\n",
            "Requirement already satisfied: python-dateutil>=2.7.3 in /share/apps/python/3.8.6/intel/lib/python3.8/site-packages (from pandas->simplet5==0.1.4) (2.8.1)\n",
            "Requirement already satisfied: pytz>=2017.2 in /share/apps/python/3.8.6/intel/lib/python3.8/site-packages (from pandas->simplet5==0.1.4) (2020.1)\n",
            "Requirement already satisfied: typing-extensions in /home/sm9669/.local/lib/python3.8/site-packages (from torch!=1.8.0,>=1.7.0->simplet5==0.1.4) (4.2.0)\n",
            "Requirement already satisfied: filelock in /share/apps/python/3.8.6/intel/lib/python3.8/site-packages (from transformers==4.16.2->simplet5==0.1.4) (3.0.12)\n",
            "Requirement already satisfied: packaging>=20.0 in /share/apps/python/3.8.6/intel/lib/python3.8/site-packages (from transformers==4.16.2->simplet5==0.1.4) (20.4)\n",
            "Requirement already satisfied: huggingface-hub<1.0,>=0.1.0 in /home/sm9669/.local/lib/python3.8/site-packages (from transformers==4.16.2->simplet5==0.1.4) (0.5.1)\n",
            "Requirement already satisfied: tqdm>=4.27 in /home/sm9669/.local/lib/python3.8/site-packages (from transformers==4.16.2->simplet5==0.1.4) (4.64.0)\n",
            "Requirement already satisfied: pyyaml>=5.1 in /share/apps/python/3.8.6/intel/lib/python3.8/site-packages (from transformers==4.16.2->simplet5==0.1.4) (5.3.1)\n",
            "Requirement already satisfied: requests in /share/apps/python/3.8.6/intel/lib/python3.8/site-packages (from transformers==4.16.2->simplet5==0.1.4) (2.24.0)\n",
            "Requirement already satisfied: sacremoses in /home/sm9669/.local/lib/python3.8/site-packages (from transformers==4.16.2->simplet5==0.1.4) (0.0.49)\n",
            "Requirement already satisfied: tokenizers!=0.11.3,>=0.10.1 in /home/sm9669/.local/lib/python3.8/site-packages (from transformers==4.16.2->simplet5==0.1.4) (0.12.1)\n",
            "Requirement already satisfied: regex!=2019.12.17 in /home/sm9669/.local/lib/python3.8/site-packages (from transformers==4.16.2->simplet5==0.1.4) (2022.3.15)\n",
            "Requirement already satisfied: torchmetrics>=0.4.1 in /home/sm9669/.local/lib/python3.8/site-packages (from pytorch-lightning==1.5.10->simplet5==0.1.4) (0.8.0)\n",
            "Requirement already satisfied: fsspec[http]!=2021.06.0,>=2021.05.0 in /home/sm9669/.local/lib/python3.8/site-packages (from pytorch-lightning==1.5.10->simplet5==0.1.4) (2022.3.0)\n",
            "Requirement already satisfied: future>=0.17.1 in /home/sm9669/.local/lib/python3.8/site-packages (from pytorch-lightning==1.5.10->simplet5==0.1.4) (0.18.2)\n",
            "Collecting setuptools==59.5.0\n",
            "  Using cached setuptools-59.5.0-py3-none-any.whl (952 kB)\n",
            "Requirement already satisfied: tensorboard>=2.2.0 in /home/sm9669/.local/lib/python3.8/site-packages (from pytorch-lightning==1.5.10->simplet5==0.1.4) (2.8.0)\n",
            "Requirement already satisfied: pyDeprecate==0.3.1 in /home/sm9669/.local/lib/python3.8/site-packages (from pytorch-lightning==1.5.10->simplet5==0.1.4) (0.3.1)\n",
            "Requirement already satisfied: six>=1.5 in /share/apps/python/3.8.6/intel/lib/python3.8/site-packages (from python-dateutil>=2.7.3->pandas->simplet5==0.1.4) (1.15.0)\n",
            "Requirement already satisfied: pyparsing>=2.0.2 in /share/apps/python/3.8.6/intel/lib/python3.8/site-packages (from packaging>=20.0->transformers==4.16.2->simplet5==0.1.4) (2.4.7)\n",
            "Requirement already satisfied: chardet<4,>=3.0.2 in /share/apps/python/3.8.6/intel/lib/python3.8/site-packages (from requests->transformers==4.16.2->simplet5==0.1.4) (3.0.4)\n",
            "Requirement already satisfied: idna<3,>=2.5 in /share/apps/python/3.8.6/intel/lib/python3.8/site-packages (from requests->transformers==4.16.2->simplet5==0.1.4) (2.10)\n",
            "Requirement already satisfied: urllib3!=1.25.0,!=1.25.1,<1.26,>=1.21.1 in /share/apps/python/3.8.6/intel/lib/python3.8/site-packages (from requests->transformers==4.16.2->simplet5==0.1.4) (1.25.10)\n",
            "Requirement already satisfied: certifi>=2017.4.17 in /share/apps/python/3.8.6/intel/lib/python3.8/site-packages (from requests->transformers==4.16.2->simplet5==0.1.4) (2020.6.20)\n",
            "Requirement already satisfied: joblib in /home/sm9669/.local/lib/python3.8/site-packages (from sacremoses->transformers==4.16.2->simplet5==0.1.4) (1.1.0)\n",
            "Requirement already satisfied: click in /home/sm9669/.local/lib/python3.8/site-packages (from sacremoses->transformers==4.16.2->simplet5==0.1.4) (8.1.2)\n",
            "Requirement already satisfied: aiohttp; extra == \"http\" in /home/sm9669/.local/lib/python3.8/site-packages (from fsspec[http]!=2021.06.0,>=2021.05.0->pytorch-lightning==1.5.10->simplet5==0.1.4) (3.8.1)\n",
            "Requirement already satisfied: grpcio>=1.24.3 in /home/sm9669/.local/lib/python3.8/site-packages (from tensorboard>=2.2.0->pytorch-lightning==1.5.10->simplet5==0.1.4) (1.44.0)\n",
            "Requirement already satisfied: wheel>=0.26 in /share/apps/python/3.8.6/intel/lib/python3.8/site-packages (from tensorboard>=2.2.0->pytorch-lightning==1.5.10->simplet5==0.1.4) (0.35.1)\n",
            "Requirement already satisfied: tensorboard-data-server<0.7.0,>=0.6.0 in /home/sm9669/.local/lib/python3.8/site-packages (from tensorboard>=2.2.0->pytorch-lightning==1.5.10->simplet5==0.1.4) (0.6.1)\n",
            "Requirement already satisfied: tensorboard-plugin-wit>=1.6.0 in /home/sm9669/.local/lib/python3.8/site-packages (from tensorboard>=2.2.0->pytorch-lightning==1.5.10->simplet5==0.1.4) (1.8.1)\n",
            "Requirement already satisfied: google-auth-oauthlib<0.5,>=0.4.1 in /home/sm9669/.local/lib/python3.8/site-packages (from tensorboard>=2.2.0->pytorch-lightning==1.5.10->simplet5==0.1.4) (0.4.6)\n",
            "Requirement already satisfied: absl-py>=0.4 in /share/apps/python/3.8.6/intel/lib/python3.8/site-packages (from tensorboard>=2.2.0->pytorch-lightning==1.5.10->simplet5==0.1.4) (0.13.0)\n",
            "Requirement already satisfied: werkzeug>=0.11.15 in /home/sm9669/.local/lib/python3.8/site-packages (from tensorboard>=2.2.0->pytorch-lightning==1.5.10->simplet5==0.1.4) (2.1.1)\n",
            "Requirement already satisfied: protobuf>=3.6.0 in /home/sm9669/.local/lib/python3.8/site-packages (from tensorboard>=2.2.0->pytorch-lightning==1.5.10->simplet5==0.1.4) (3.20.0)\n",
            "Requirement already satisfied: google-auth<3,>=1.6.3 in /home/sm9669/.local/lib/python3.8/site-packages (from tensorboard>=2.2.0->pytorch-lightning==1.5.10->simplet5==0.1.4) (2.6.5)\n",
            "Requirement already satisfied: markdown>=2.6.8 in /home/sm9669/.local/lib/python3.8/site-packages (from tensorboard>=2.2.0->pytorch-lightning==1.5.10->simplet5==0.1.4) (3.3.6)\n",
            "Requirement already satisfied: yarl<2.0,>=1.0 in /home/sm9669/.local/lib/python3.8/site-packages (from aiohttp; extra == \"http\"->fsspec[http]!=2021.06.0,>=2021.05.0->pytorch-lightning==1.5.10->simplet5==0.1.4) (1.7.2)\n",
            "Requirement already satisfied: async-timeout<5.0,>=4.0.0a3 in /home/sm9669/.local/lib/python3.8/site-packages (from aiohttp; extra == \"http\"->fsspec[http]!=2021.06.0,>=2021.05.0->pytorch-lightning==1.5.10->simplet5==0.1.4) (4.0.2)\n",
            "Requirement already satisfied: frozenlist>=1.1.1 in /home/sm9669/.local/lib/python3.8/site-packages (from aiohttp; extra == \"http\"->fsspec[http]!=2021.06.0,>=2021.05.0->pytorch-lightning==1.5.10->simplet5==0.1.4) (1.3.0)\n",
            "Requirement already satisfied: multidict<7.0,>=4.5 in /home/sm9669/.local/lib/python3.8/site-packages (from aiohttp; extra == \"http\"->fsspec[http]!=2021.06.0,>=2021.05.0->pytorch-lightning==1.5.10->simplet5==0.1.4) (6.0.2)\n",
            "Requirement already satisfied: attrs>=17.3.0 in /share/apps/python/3.8.6/intel/lib/python3.8/site-packages (from aiohttp; extra == \"http\"->fsspec[http]!=2021.06.0,>=2021.05.0->pytorch-lightning==1.5.10->simplet5==0.1.4) (20.2.0)\n",
            "Requirement already satisfied: aiosignal>=1.1.2 in /home/sm9669/.local/lib/python3.8/site-packages (from aiohttp; extra == \"http\"->fsspec[http]!=2021.06.0,>=2021.05.0->pytorch-lightning==1.5.10->simplet5==0.1.4) (1.2.0)\n",
            "Requirement already satisfied: charset-normalizer<3.0,>=2.0 in /home/sm9669/.local/lib/python3.8/site-packages (from aiohttp; extra == \"http\"->fsspec[http]!=2021.06.0,>=2021.05.0->pytorch-lightning==1.5.10->simplet5==0.1.4) (2.0.12)\n",
            "Requirement already satisfied: requests-oauthlib>=0.7.0 in /home/sm9669/.local/lib/python3.8/site-packages (from google-auth-oauthlib<0.5,>=0.4.1->tensorboard>=2.2.0->pytorch-lightning==1.5.10->simplet5==0.1.4) (1.3.1)\n",
            "Requirement already satisfied: rsa<5,>=3.1.4; python_version >= \"3.6\" in /home/sm9669/.local/lib/python3.8/site-packages (from google-auth<3,>=1.6.3->tensorboard>=2.2.0->pytorch-lightning==1.5.10->simplet5==0.1.4) (4.8)\n",
            "Requirement already satisfied: pyasn1-modules>=0.2.1 in /home/sm9669/.local/lib/python3.8/site-packages (from google-auth<3,>=1.6.3->tensorboard>=2.2.0->pytorch-lightning==1.5.10->simplet5==0.1.4) (0.2.8)\n",
            "Requirement already satisfied: cachetools<6.0,>=2.0.0 in /home/sm9669/.local/lib/python3.8/site-packages (from google-auth<3,>=1.6.3->tensorboard>=2.2.0->pytorch-lightning==1.5.10->simplet5==0.1.4) (5.0.0)\n",
            "Requirement already satisfied: importlib-metadata>=4.4; python_version < \"3.10\" in /home/sm9669/.local/lib/python3.8/site-packages (from markdown>=2.6.8->tensorboard>=2.2.0->pytorch-lightning==1.5.10->simplet5==0.1.4) (4.11.3)\n",
            "Requirement already satisfied: oauthlib>=3.0.0 in /share/apps/python/3.8.6/intel/lib/python3.8/site-packages (from requests-oauthlib>=0.7.0->google-auth-oauthlib<0.5,>=0.4.1->tensorboard>=2.2.0->pytorch-lightning==1.5.10->simplet5==0.1.4) (3.1.0)\n",
            "Requirement already satisfied: pyasn1>=0.1.3 in /home/sm9669/.local/lib/python3.8/site-packages (from rsa<5,>=3.1.4; python_version >= \"3.6\"->google-auth<3,>=1.6.3->tensorboard>=2.2.0->pytorch-lightning==1.5.10->simplet5==0.1.4) (0.4.8)\n",
            "Requirement already satisfied: zipp>=0.5 in /home/sm9669/.local/lib/python3.8/site-packages (from importlib-metadata>=4.4; python_version < \"3.10\"->markdown>=2.6.8->tensorboard>=2.2.0->pytorch-lightning==1.5.10->simplet5==0.1.4) (3.8.0)\n",
            "Building wheels for collected packages: simplet5\n",
            "  Building wheel for simplet5 (setup.py) ... \u001b[?25ldone\n",
            "\u001b[?25h  Created wheel for simplet5: filename=simplet5-0.1.4-py3-none-any.whl size=7688 sha256=88b2fbb44baab65ef90f29a606f23733f55e42b961e84541f33db1e895509edb\n",
            "  Stored in directory: /home/sm9669/.cache/pip/wheels/1c/62/9d/c5335bdf629f4fe2e365307ca619779d398cf24ddfecbadb23\n",
            "Successfully built simplet5\n",
            "Installing collected packages: transformers, simplet5, setuptools\n",
            "  Attempting uninstall: transformers\n",
            "    Found existing installation: transformers 4.18.0\n",
            "    Uninstalling transformers-4.18.0:\n",
            "      Successfully uninstalled transformers-4.18.0\n",
            "  Attempting uninstall: simplet5\n",
            "    Found existing installation: simplet5 0.1.4\n",
            "    Uninstalling simplet5-0.1.4:\n",
            "      Successfully uninstalled simplet5-0.1.4\n",
            "Successfully installed setuptools-59.5.0 simplet5-0.1.4 transformers-4.16.2\n",
            "\u001b[33mWARNING: You are using pip version 20.2.3; however, version 22.0.4 is available.\n",
            "You should consider upgrading via the '/share/apps/python/3.8.6/intel/bin/python -m pip install --upgrade pip' command.\u001b[0m\n"
          ]
        }
      ],
      "source": [
        "!pip install ."
      ]
    },
    {
      "cell_type": "code",
      "execution_count": null,
      "metadata": {
        "scrolled": true,
        "id": "LXJ3kn4F2Z2O",
        "outputId": "069d7563-52fb-4ec0-ee2c-900219c5b538"
      },
      "outputs": [
        {
          "name": "stdout",
          "output_type": "stream",
          "text": [
            "Defaulting to user installation because normal site-packages is not writeable\n",
            "Requirement already satisfied: simplet5 in /home/sm9669/.local/lib/python3.8/site-packages (0.1.4)\n",
            "Requirement already satisfied: pandas in /share/apps/python/3.8.6/intel/lib/python3.8/site-packages (from simplet5) (1.1.3)\n",
            "Requirement already satisfied: transformers==4.16.2 in /home/sm9669/.local/lib/python3.8/site-packages (from simplet5) (4.16.2)\n",
            "Requirement already satisfied: pytorch-lightning==1.5.10 in /home/sm9669/.local/lib/python3.8/site-packages (from simplet5) (1.5.10)\n",
            "Requirement already satisfied: numpy in /share/apps/python/3.8.6/intel/lib/python3.8/site-packages/numpy-1.19.2-py3.8-linux-x86_64.egg (from simplet5) (1.19.2)\n",
            "Requirement already satisfied: sentencepiece in /home/sm9669/.local/lib/python3.8/site-packages (from simplet5) (0.1.96)\n",
            "Requirement already satisfied: torch!=1.8.0,>=1.7.0 in /home/sm9669/.local/lib/python3.8/site-packages (from simplet5) (1.11.0)\n",
            "Requirement already satisfied: python-dateutil>=2.7.3 in /share/apps/python/3.8.6/intel/lib/python3.8/site-packages (from pandas->simplet5) (2.8.1)\n",
            "Requirement already satisfied: pytz>=2017.2 in /share/apps/python/3.8.6/intel/lib/python3.8/site-packages (from pandas->simplet5) (2020.1)\n",
            "Requirement already satisfied: tokenizers!=0.11.3,>=0.10.1 in /home/sm9669/.local/lib/python3.8/site-packages (from transformers==4.16.2->simplet5) (0.12.1)\n",
            "Requirement already satisfied: requests in /share/apps/python/3.8.6/intel/lib/python3.8/site-packages (from transformers==4.16.2->simplet5) (2.24.0)\n",
            "Requirement already satisfied: huggingface-hub<1.0,>=0.1.0 in /home/sm9669/.local/lib/python3.8/site-packages (from transformers==4.16.2->simplet5) (0.5.1)\n",
            "Requirement already satisfied: sacremoses in /home/sm9669/.local/lib/python3.8/site-packages (from transformers==4.16.2->simplet5) (0.0.49)\n",
            "Requirement already satisfied: pyyaml>=5.1 in /share/apps/python/3.8.6/intel/lib/python3.8/site-packages (from transformers==4.16.2->simplet5) (5.3.1)\n",
            "Requirement already satisfied: filelock in /share/apps/python/3.8.6/intel/lib/python3.8/site-packages (from transformers==4.16.2->simplet5) (3.0.12)\n",
            "Requirement already satisfied: packaging>=20.0 in /share/apps/python/3.8.6/intel/lib/python3.8/site-packages (from transformers==4.16.2->simplet5) (20.4)\n",
            "Requirement already satisfied: tqdm>=4.27 in /home/sm9669/.local/lib/python3.8/site-packages (from transformers==4.16.2->simplet5) (4.64.0)\n",
            "Requirement already satisfied: regex!=2019.12.17 in /home/sm9669/.local/lib/python3.8/site-packages (from transformers==4.16.2->simplet5) (2022.3.15)\n",
            "Requirement already satisfied: torchmetrics>=0.4.1 in /home/sm9669/.local/lib/python3.8/site-packages (from pytorch-lightning==1.5.10->simplet5) (0.8.0)\n",
            "Requirement already satisfied: future>=0.17.1 in /home/sm9669/.local/lib/python3.8/site-packages (from pytorch-lightning==1.5.10->simplet5) (0.18.2)\n",
            "Requirement already satisfied: pyDeprecate==0.3.1 in /home/sm9669/.local/lib/python3.8/site-packages (from pytorch-lightning==1.5.10->simplet5) (0.3.1)\n",
            "Requirement already satisfied: typing-extensions in /home/sm9669/.local/lib/python3.8/site-packages (from pytorch-lightning==1.5.10->simplet5) (4.2.0)\n",
            "Requirement already satisfied: tensorboard>=2.2.0 in /home/sm9669/.local/lib/python3.8/site-packages (from pytorch-lightning==1.5.10->simplet5) (2.8.0)\n",
            "Collecting setuptools==59.5.0\n",
            "  Using cached setuptools-59.5.0-py3-none-any.whl (952 kB)\n",
            "Requirement already satisfied: fsspec[http]!=2021.06.0,>=2021.05.0 in /home/sm9669/.local/lib/python3.8/site-packages (from pytorch-lightning==1.5.10->simplet5) (2022.3.0)\n",
            "Requirement already satisfied: six>=1.5 in /share/apps/python/3.8.6/intel/lib/python3.8/site-packages (from python-dateutil>=2.7.3->pandas->simplet5) (1.15.0)\n",
            "Requirement already satisfied: certifi>=2017.4.17 in /share/apps/python/3.8.6/intel/lib/python3.8/site-packages (from requests->transformers==4.16.2->simplet5) (2020.6.20)\n",
            "Requirement already satisfied: idna<3,>=2.5 in /share/apps/python/3.8.6/intel/lib/python3.8/site-packages (from requests->transformers==4.16.2->simplet5) (2.10)\n",
            "Requirement already satisfied: chardet<4,>=3.0.2 in /share/apps/python/3.8.6/intel/lib/python3.8/site-packages (from requests->transformers==4.16.2->simplet5) (3.0.4)\n",
            "Requirement already satisfied: urllib3!=1.25.0,!=1.25.1,<1.26,>=1.21.1 in /share/apps/python/3.8.6/intel/lib/python3.8/site-packages (from requests->transformers==4.16.2->simplet5) (1.25.10)\n",
            "Requirement already satisfied: joblib in /home/sm9669/.local/lib/python3.8/site-packages (from sacremoses->transformers==4.16.2->simplet5) (1.1.0)\n",
            "Requirement already satisfied: click in /home/sm9669/.local/lib/python3.8/site-packages (from sacremoses->transformers==4.16.2->simplet5) (8.1.2)\n",
            "Requirement already satisfied: pyparsing>=2.0.2 in /share/apps/python/3.8.6/intel/lib/python3.8/site-packages (from packaging>=20.0->transformers==4.16.2->simplet5) (2.4.7)\n",
            "Requirement already satisfied: markdown>=2.6.8 in /home/sm9669/.local/lib/python3.8/site-packages (from tensorboard>=2.2.0->pytorch-lightning==1.5.10->simplet5) (3.3.6)\n",
            "Requirement already satisfied: google-auth<3,>=1.6.3 in /home/sm9669/.local/lib/python3.8/site-packages (from tensorboard>=2.2.0->pytorch-lightning==1.5.10->simplet5) (2.6.5)\n",
            "Requirement already satisfied: werkzeug>=0.11.15 in /home/sm9669/.local/lib/python3.8/site-packages (from tensorboard>=2.2.0->pytorch-lightning==1.5.10->simplet5) (2.1.1)\n",
            "Requirement already satisfied: grpcio>=1.24.3 in /home/sm9669/.local/lib/python3.8/site-packages (from tensorboard>=2.2.0->pytorch-lightning==1.5.10->simplet5) (1.44.0)\n",
            "Requirement already satisfied: tensorboard-plugin-wit>=1.6.0 in /home/sm9669/.local/lib/python3.8/site-packages (from tensorboard>=2.2.0->pytorch-lightning==1.5.10->simplet5) (1.8.1)\n",
            "Requirement already satisfied: tensorboard-data-server<0.7.0,>=0.6.0 in /home/sm9669/.local/lib/python3.8/site-packages (from tensorboard>=2.2.0->pytorch-lightning==1.5.10->simplet5) (0.6.1)\n",
            "Requirement already satisfied: google-auth-oauthlib<0.5,>=0.4.1 in /home/sm9669/.local/lib/python3.8/site-packages (from tensorboard>=2.2.0->pytorch-lightning==1.5.10->simplet5) (0.4.6)\n",
            "Requirement already satisfied: absl-py>=0.4 in /share/apps/python/3.8.6/intel/lib/python3.8/site-packages (from tensorboard>=2.2.0->pytorch-lightning==1.5.10->simplet5) (0.13.0)\n",
            "Requirement already satisfied: wheel>=0.26 in /share/apps/python/3.8.6/intel/lib/python3.8/site-packages (from tensorboard>=2.2.0->pytorch-lightning==1.5.10->simplet5) (0.35.1)\n",
            "Requirement already satisfied: protobuf>=3.6.0 in /home/sm9669/.local/lib/python3.8/site-packages (from tensorboard>=2.2.0->pytorch-lightning==1.5.10->simplet5) (3.20.0)\n",
            "Requirement already satisfied: aiohttp; extra == \"http\" in /home/sm9669/.local/lib/python3.8/site-packages (from fsspec[http]!=2021.06.0,>=2021.05.0->pytorch-lightning==1.5.10->simplet5) (3.8.1)\n",
            "Requirement already satisfied: importlib-metadata>=4.4; python_version < \"3.10\" in /home/sm9669/.local/lib/python3.8/site-packages (from markdown>=2.6.8->tensorboard>=2.2.0->pytorch-lightning==1.5.10->simplet5) (4.11.3)\n",
            "Requirement already satisfied: pyasn1-modules>=0.2.1 in /home/sm9669/.local/lib/python3.8/site-packages (from google-auth<3,>=1.6.3->tensorboard>=2.2.0->pytorch-lightning==1.5.10->simplet5) (0.2.8)\n",
            "Requirement already satisfied: rsa<5,>=3.1.4; python_version >= \"3.6\" in /home/sm9669/.local/lib/python3.8/site-packages (from google-auth<3,>=1.6.3->tensorboard>=2.2.0->pytorch-lightning==1.5.10->simplet5) (4.8)\n",
            "Requirement already satisfied: cachetools<6.0,>=2.0.0 in /home/sm9669/.local/lib/python3.8/site-packages (from google-auth<3,>=1.6.3->tensorboard>=2.2.0->pytorch-lightning==1.5.10->simplet5) (5.0.0)\n",
            "Requirement already satisfied: requests-oauthlib>=0.7.0 in /home/sm9669/.local/lib/python3.8/site-packages (from google-auth-oauthlib<0.5,>=0.4.1->tensorboard>=2.2.0->pytorch-lightning==1.5.10->simplet5) (1.3.1)\n",
            "Requirement already satisfied: async-timeout<5.0,>=4.0.0a3 in /home/sm9669/.local/lib/python3.8/site-packages (from aiohttp; extra == \"http\"->fsspec[http]!=2021.06.0,>=2021.05.0->pytorch-lightning==1.5.10->simplet5) (4.0.2)\n",
            "Requirement already satisfied: charset-normalizer<3.0,>=2.0 in /home/sm9669/.local/lib/python3.8/site-packages (from aiohttp; extra == \"http\"->fsspec[http]!=2021.06.0,>=2021.05.0->pytorch-lightning==1.5.10->simplet5) (2.0.12)\n",
            "Requirement already satisfied: frozenlist>=1.1.1 in /home/sm9669/.local/lib/python3.8/site-packages (from aiohttp; extra == \"http\"->fsspec[http]!=2021.06.0,>=2021.05.0->pytorch-lightning==1.5.10->simplet5) (1.3.0)\n",
            "Requirement already satisfied: attrs>=17.3.0 in /share/apps/python/3.8.6/intel/lib/python3.8/site-packages (from aiohttp; extra == \"http\"->fsspec[http]!=2021.06.0,>=2021.05.0->pytorch-lightning==1.5.10->simplet5) (20.2.0)\n",
            "Requirement already satisfied: aiosignal>=1.1.2 in /home/sm9669/.local/lib/python3.8/site-packages (from aiohttp; extra == \"http\"->fsspec[http]!=2021.06.0,>=2021.05.0->pytorch-lightning==1.5.10->simplet5) (1.2.0)\n",
            "Requirement already satisfied: yarl<2.0,>=1.0 in /home/sm9669/.local/lib/python3.8/site-packages (from aiohttp; extra == \"http\"->fsspec[http]!=2021.06.0,>=2021.05.0->pytorch-lightning==1.5.10->simplet5) (1.7.2)\n",
            "Requirement already satisfied: multidict<7.0,>=4.5 in /home/sm9669/.local/lib/python3.8/site-packages (from aiohttp; extra == \"http\"->fsspec[http]!=2021.06.0,>=2021.05.0->pytorch-lightning==1.5.10->simplet5) (6.0.2)\n",
            "Requirement already satisfied: zipp>=0.5 in /home/sm9669/.local/lib/python3.8/site-packages (from importlib-metadata>=4.4; python_version < \"3.10\"->markdown>=2.6.8->tensorboard>=2.2.0->pytorch-lightning==1.5.10->simplet5) (3.8.0)\n",
            "Requirement already satisfied: pyasn1<0.5.0,>=0.4.6 in /home/sm9669/.local/lib/python3.8/site-packages (from pyasn1-modules>=0.2.1->google-auth<3,>=1.6.3->tensorboard>=2.2.0->pytorch-lightning==1.5.10->simplet5) (0.4.8)\n",
            "Requirement already satisfied: oauthlib>=3.0.0 in /share/apps/python/3.8.6/intel/lib/python3.8/site-packages (from requests-oauthlib>=0.7.0->google-auth-oauthlib<0.5,>=0.4.1->tensorboard>=2.2.0->pytorch-lightning==1.5.10->simplet5) (3.1.0)\n",
            "Installing collected packages: setuptools\n",
            "Successfully installed setuptools-59.5.0\n",
            "\u001b[33mWARNING: You are using pip version 20.2.3; however, version 22.0.4 is available.\n",
            "You should consider upgrading via the '/share/apps/python/3.8.6/intel/bin/python -m pip install --upgrade pip' command.\u001b[0m\n"
          ]
        }
      ],
      "source": [
        "!pip install simplet5"
      ]
    },
    {
      "cell_type": "code",
      "execution_count": null,
      "metadata": {
        "scrolled": true,
        "id": "LBJ9hS9w2Z2O",
        "outputId": "e1b879e1-9800-4a04-8c0d-73218c2792c8"
      },
      "outputs": [
        {
          "name": "stdout",
          "output_type": "stream",
          "text": [
            "\n",
            "Hostname: gv014 at Tue Apr 19 21:59:15 EDT 2022\n",
            "\n",
            "Filesystem   Environment   Backed up?   Allocation       Current Usage\n",
            "Space        Variable      /Flushed?    Space / Files    Space(%) / Files(%)\n",
            "\n",
            "/home        $HOME         Yes/No       50.0GB/30.0K  \u001b[0m     2.62GB(5.23%)\u001b[0m/\u001b[0m20393(67.98%)\n",
            "\u001b[0m/scratch     $SCRATCH      No/Yes        5.0TB/1.0M  \u001b[0m   252.16GB(4.92%)\u001b[0m/\u001b[0m627212(62.72%)\u001b[0m\n",
            "\n"
          ]
        }
      ],
      "source": [
        "!myquota"
      ]
    },
    {
      "cell_type": "code",
      "execution_count": null,
      "metadata": {
        "id": "kJWlc2fS2Z2P",
        "outputId": "824343a3-e466-420f-e411-d621ed7d2e0d"
      },
      "outputs": [
        {
          "name": "stdout",
          "output_type": "stream",
          "text": [
            "Defaulting to user installation because normal site-packages is not writeable\n",
            "Collecting transformers\n",
            "  Using cached transformers-4.18.0-py3-none-any.whl (4.0 MB)\n",
            "Requirement already satisfied, skipping upgrade: huggingface-hub<1.0,>=0.1.0 in /home/sm9669/.local/lib/python3.8/site-packages (from transformers) (0.5.1)\n",
            "Requirement already satisfied, skipping upgrade: tqdm>=4.27 in /home/sm9669/.local/lib/python3.8/site-packages (from transformers) (4.64.0)\n",
            "Requirement already satisfied, skipping upgrade: packaging>=20.0 in /share/apps/python/3.8.6/intel/lib/python3.8/site-packages (from transformers) (20.4)\n",
            "Requirement already satisfied, skipping upgrade: numpy>=1.17 in /share/apps/python/3.8.6/intel/lib/python3.8/site-packages/numpy-1.19.2-py3.8-linux-x86_64.egg (from transformers) (1.19.2)\n",
            "Requirement already satisfied, skipping upgrade: pyyaml>=5.1 in /share/apps/python/3.8.6/intel/lib/python3.8/site-packages (from transformers) (5.3.1)\n",
            "Requirement already satisfied, skipping upgrade: regex!=2019.12.17 in /home/sm9669/.local/lib/python3.8/site-packages (from transformers) (2022.3.15)\n",
            "Requirement already satisfied, skipping upgrade: requests in /share/apps/python/3.8.6/intel/lib/python3.8/site-packages (from transformers) (2.24.0)\n",
            "Requirement already satisfied, skipping upgrade: tokenizers!=0.11.3,<0.13,>=0.11.1 in /home/sm9669/.local/lib/python3.8/site-packages (from transformers) (0.12.1)\n",
            "Requirement already satisfied, skipping upgrade: filelock in /share/apps/python/3.8.6/intel/lib/python3.8/site-packages (from transformers) (3.0.12)\n",
            "Requirement already satisfied, skipping upgrade: sacremoses in /home/sm9669/.local/lib/python3.8/site-packages (from transformers) (0.0.49)\n",
            "Requirement already satisfied, skipping upgrade: typing-extensions>=3.7.4.3 in /home/sm9669/.local/lib/python3.8/site-packages (from huggingface-hub<1.0,>=0.1.0->transformers) (4.2.0)\n",
            "Requirement already satisfied, skipping upgrade: pyparsing>=2.0.2 in /share/apps/python/3.8.6/intel/lib/python3.8/site-packages (from packaging>=20.0->transformers) (2.4.7)\n",
            "Requirement already satisfied, skipping upgrade: six in /share/apps/python/3.8.6/intel/lib/python3.8/site-packages (from packaging>=20.0->transformers) (1.15.0)\n",
            "Requirement already satisfied, skipping upgrade: idna<3,>=2.5 in /share/apps/python/3.8.6/intel/lib/python3.8/site-packages (from requests->transformers) (2.10)\n",
            "Requirement already satisfied, skipping upgrade: urllib3!=1.25.0,!=1.25.1,<1.26,>=1.21.1 in /share/apps/python/3.8.6/intel/lib/python3.8/site-packages (from requests->transformers) (1.25.10)\n",
            "Requirement already satisfied, skipping upgrade: chardet<4,>=3.0.2 in /share/apps/python/3.8.6/intel/lib/python3.8/site-packages (from requests->transformers) (3.0.4)\n",
            "Requirement already satisfied, skipping upgrade: certifi>=2017.4.17 in /share/apps/python/3.8.6/intel/lib/python3.8/site-packages (from requests->transformers) (2020.6.20)\n",
            "Requirement already satisfied, skipping upgrade: joblib in /home/sm9669/.local/lib/python3.8/site-packages (from sacremoses->transformers) (1.1.0)\n",
            "Requirement already satisfied, skipping upgrade: click in /home/sm9669/.local/lib/python3.8/site-packages (from sacremoses->transformers) (8.1.2)\n",
            "Installing collected packages: transformers\n",
            "  Attempting uninstall: transformers\n",
            "    Found existing installation: transformers 4.16.2\n",
            "    Uninstalling transformers-4.16.2:\n",
            "      Successfully uninstalled transformers-4.16.2\n",
            "\u001b[31mERROR: After October 2020 you may experience errors when installing or updating packages. This is because pip will change the way that it resolves dependency conflicts.\n",
            "\n",
            "We recommend you use --use-feature=2020-resolver to test your packages with the new resolver before it becomes the default.\n",
            "\n",
            "simplet5 0.1.4 requires transformers==4.16.2, but you'll have transformers 4.18.0 which is incompatible.\u001b[0m\n",
            "Successfully installed transformers-4.18.0\n",
            "\u001b[33mWARNING: You are using pip version 20.2.3; however, version 22.0.4 is available.\n",
            "You should consider upgrading via the '/share/apps/python/3.8.6/intel/bin/python -m pip install --upgrade pip' command.\u001b[0m\n"
          ]
        }
      ],
      "source": [
        "!pip install transformers --upgrade"
      ]
    },
    {
      "cell_type": "code",
      "execution_count": null,
      "metadata": {
        "id": "E8je0g-w2Z2P",
        "outputId": "9f47c718-82de-4a8a-b5ae-57b874947bb9"
      },
      "outputs": [
        {
          "name": "stdout",
          "output_type": "stream",
          "text": [
            "Defaulting to user installation because normal site-packages is not writeable\n",
            "Processing /scratch/sm9669/simpleT5-main\n",
            "Requirement already satisfied: numpy in /share/apps/python/3.8.6/intel/lib/python3.8/site-packages/numpy-1.19.2-py3.8-linux-x86_64.egg (from simplet5==0.1.4) (1.19.2)\n",
            "Requirement already satisfied: pandas in /share/apps/python/3.8.6/intel/lib/python3.8/site-packages (from simplet5==0.1.4) (1.1.3)\n",
            "Requirement already satisfied: sentencepiece in /home/sm9669/.local/lib/python3.8/site-packages (from simplet5==0.1.4) (0.1.96)\n",
            "Requirement already satisfied: torch!=1.8.0,>=1.7.0 in /home/sm9669/.local/lib/python3.8/site-packages (from simplet5==0.1.4) (1.11.0)\n",
            "Collecting transformers==4.16.2\n",
            "  Using cached transformers-4.16.2-py3-none-any.whl (3.5 MB)\n",
            "Requirement already satisfied: pytorch-lightning==1.5.10 in /home/sm9669/.local/lib/python3.8/site-packages (from simplet5==0.1.4) (1.5.10)\n",
            "Requirement already satisfied: pytz>=2017.2 in /share/apps/python/3.8.6/intel/lib/python3.8/site-packages (from pandas->simplet5==0.1.4) (2020.1)\n",
            "Requirement already satisfied: python-dateutil>=2.7.3 in /share/apps/python/3.8.6/intel/lib/python3.8/site-packages (from pandas->simplet5==0.1.4) (2.8.1)\n",
            "Requirement already satisfied: typing-extensions in /home/sm9669/.local/lib/python3.8/site-packages (from torch!=1.8.0,>=1.7.0->simplet5==0.1.4) (4.2.0)\n",
            "Requirement already satisfied: pyyaml>=5.1 in /share/apps/python/3.8.6/intel/lib/python3.8/site-packages (from transformers==4.16.2->simplet5==0.1.4) (5.3.1)\n",
            "Requirement already satisfied: packaging>=20.0 in /share/apps/python/3.8.6/intel/lib/python3.8/site-packages (from transformers==4.16.2->simplet5==0.1.4) (20.4)\n",
            "Requirement already satisfied: tokenizers!=0.11.3,>=0.10.1 in /home/sm9669/.local/lib/python3.8/site-packages (from transformers==4.16.2->simplet5==0.1.4) (0.12.1)\n",
            "Requirement already satisfied: tqdm>=4.27 in /home/sm9669/.local/lib/python3.8/site-packages (from transformers==4.16.2->simplet5==0.1.4) (4.64.0)\n",
            "Requirement already satisfied: huggingface-hub<1.0,>=0.1.0 in /home/sm9669/.local/lib/python3.8/site-packages (from transformers==4.16.2->simplet5==0.1.4) (0.5.1)\n",
            "Requirement already satisfied: regex!=2019.12.17 in /home/sm9669/.local/lib/python3.8/site-packages (from transformers==4.16.2->simplet5==0.1.4) (2022.3.15)\n",
            "Requirement already satisfied: requests in /share/apps/python/3.8.6/intel/lib/python3.8/site-packages (from transformers==4.16.2->simplet5==0.1.4) (2.24.0)\n",
            "Requirement already satisfied: sacremoses in /home/sm9669/.local/lib/python3.8/site-packages (from transformers==4.16.2->simplet5==0.1.4) (0.0.49)\n",
            "Requirement already satisfied: filelock in /share/apps/python/3.8.6/intel/lib/python3.8/site-packages (from transformers==4.16.2->simplet5==0.1.4) (3.0.12)\n",
            "Requirement already satisfied: fsspec[http]!=2021.06.0,>=2021.05.0 in /home/sm9669/.local/lib/python3.8/site-packages (from pytorch-lightning==1.5.10->simplet5==0.1.4) (2022.3.0)\n",
            "Requirement already satisfied: future>=0.17.1 in /home/sm9669/.local/lib/python3.8/site-packages (from pytorch-lightning==1.5.10->simplet5==0.1.4) (0.18.2)\n",
            "Requirement already satisfied: torchmetrics>=0.4.1 in /home/sm9669/.local/lib/python3.8/site-packages (from pytorch-lightning==1.5.10->simplet5==0.1.4) (0.8.0)\n",
            "Collecting setuptools==59.5.0\n",
            "  Using cached setuptools-59.5.0-py3-none-any.whl (952 kB)\n",
            "Requirement already satisfied: tensorboard>=2.2.0 in /home/sm9669/.local/lib/python3.8/site-packages (from pytorch-lightning==1.5.10->simplet5==0.1.4) (2.8.0)\n",
            "Requirement already satisfied: pyDeprecate==0.3.1 in /home/sm9669/.local/lib/python3.8/site-packages (from pytorch-lightning==1.5.10->simplet5==0.1.4) (0.3.1)\n",
            "Requirement already satisfied: six>=1.5 in /share/apps/python/3.8.6/intel/lib/python3.8/site-packages (from python-dateutil>=2.7.3->pandas->simplet5==0.1.4) (1.15.0)\n",
            "Requirement already satisfied: pyparsing>=2.0.2 in /share/apps/python/3.8.6/intel/lib/python3.8/site-packages (from packaging>=20.0->transformers==4.16.2->simplet5==0.1.4) (2.4.7)\n",
            "Requirement already satisfied: certifi>=2017.4.17 in /share/apps/python/3.8.6/intel/lib/python3.8/site-packages (from requests->transformers==4.16.2->simplet5==0.1.4) (2020.6.20)\n",
            "Requirement already satisfied: chardet<4,>=3.0.2 in /share/apps/python/3.8.6/intel/lib/python3.8/site-packages (from requests->transformers==4.16.2->simplet5==0.1.4) (3.0.4)\n",
            "Requirement already satisfied: urllib3!=1.25.0,!=1.25.1,<1.26,>=1.21.1 in /share/apps/python/3.8.6/intel/lib/python3.8/site-packages (from requests->transformers==4.16.2->simplet5==0.1.4) (1.25.10)\n",
            "Requirement already satisfied: idna<3,>=2.5 in /share/apps/python/3.8.6/intel/lib/python3.8/site-packages (from requests->transformers==4.16.2->simplet5==0.1.4) (2.10)\n",
            "Requirement already satisfied: joblib in /home/sm9669/.local/lib/python3.8/site-packages (from sacremoses->transformers==4.16.2->simplet5==0.1.4) (1.1.0)\n",
            "Requirement already satisfied: click in /home/sm9669/.local/lib/python3.8/site-packages (from sacremoses->transformers==4.16.2->simplet5==0.1.4) (8.1.2)\n",
            "Requirement already satisfied: aiohttp; extra == \"http\" in /home/sm9669/.local/lib/python3.8/site-packages (from fsspec[http]!=2021.06.0,>=2021.05.0->pytorch-lightning==1.5.10->simplet5==0.1.4) (3.8.1)\n",
            "Requirement already satisfied: google-auth<3,>=1.6.3 in /home/sm9669/.local/lib/python3.8/site-packages (from tensorboard>=2.2.0->pytorch-lightning==1.5.10->simplet5==0.1.4) (2.6.5)\n",
            "Requirement already satisfied: protobuf>=3.6.0 in /home/sm9669/.local/lib/python3.8/site-packages (from tensorboard>=2.2.0->pytorch-lightning==1.5.10->simplet5==0.1.4) (3.20.0)\n",
            "Requirement already satisfied: wheel>=0.26 in /share/apps/python/3.8.6/intel/lib/python3.8/site-packages (from tensorboard>=2.2.0->pytorch-lightning==1.5.10->simplet5==0.1.4) (0.35.1)\n",
            "Requirement already satisfied: tensorboard-plugin-wit>=1.6.0 in /home/sm9669/.local/lib/python3.8/site-packages (from tensorboard>=2.2.0->pytorch-lightning==1.5.10->simplet5==0.1.4) (1.8.1)\n",
            "Requirement already satisfied: absl-py>=0.4 in /share/apps/python/3.8.6/intel/lib/python3.8/site-packages (from tensorboard>=2.2.0->pytorch-lightning==1.5.10->simplet5==0.1.4) (0.13.0)\n",
            "Requirement already satisfied: google-auth-oauthlib<0.5,>=0.4.1 in /home/sm9669/.local/lib/python3.8/site-packages (from tensorboard>=2.2.0->pytorch-lightning==1.5.10->simplet5==0.1.4) (0.4.6)\n",
            "Requirement already satisfied: grpcio>=1.24.3 in /home/sm9669/.local/lib/python3.8/site-packages (from tensorboard>=2.2.0->pytorch-lightning==1.5.10->simplet5==0.1.4) (1.44.0)\n",
            "Requirement already satisfied: markdown>=2.6.8 in /home/sm9669/.local/lib/python3.8/site-packages (from tensorboard>=2.2.0->pytorch-lightning==1.5.10->simplet5==0.1.4) (3.3.6)\n",
            "Requirement already satisfied: tensorboard-data-server<0.7.0,>=0.6.0 in /home/sm9669/.local/lib/python3.8/site-packages (from tensorboard>=2.2.0->pytorch-lightning==1.5.10->simplet5==0.1.4) (0.6.1)\n",
            "Requirement already satisfied: werkzeug>=0.11.15 in /home/sm9669/.local/lib/python3.8/site-packages (from tensorboard>=2.2.0->pytorch-lightning==1.5.10->simplet5==0.1.4) (2.1.1)\n",
            "Requirement already satisfied: multidict<7.0,>=4.5 in /home/sm9669/.local/lib/python3.8/site-packages (from aiohttp; extra == \"http\"->fsspec[http]!=2021.06.0,>=2021.05.0->pytorch-lightning==1.5.10->simplet5==0.1.4) (6.0.2)\n",
            "Requirement already satisfied: charset-normalizer<3.0,>=2.0 in /home/sm9669/.local/lib/python3.8/site-packages (from aiohttp; extra == \"http\"->fsspec[http]!=2021.06.0,>=2021.05.0->pytorch-lightning==1.5.10->simplet5==0.1.4) (2.0.12)\n",
            "Requirement already satisfied: async-timeout<5.0,>=4.0.0a3 in /home/sm9669/.local/lib/python3.8/site-packages (from aiohttp; extra == \"http\"->fsspec[http]!=2021.06.0,>=2021.05.0->pytorch-lightning==1.5.10->simplet5==0.1.4) (4.0.2)\n",
            "Requirement already satisfied: aiosignal>=1.1.2 in /home/sm9669/.local/lib/python3.8/site-packages (from aiohttp; extra == \"http\"->fsspec[http]!=2021.06.0,>=2021.05.0->pytorch-lightning==1.5.10->simplet5==0.1.4) (1.2.0)\n",
            "Requirement already satisfied: yarl<2.0,>=1.0 in /home/sm9669/.local/lib/python3.8/site-packages (from aiohttp; extra == \"http\"->fsspec[http]!=2021.06.0,>=2021.05.0->pytorch-lightning==1.5.10->simplet5==0.1.4) (1.7.2)\n",
            "Requirement already satisfied: frozenlist>=1.1.1 in /home/sm9669/.local/lib/python3.8/site-packages (from aiohttp; extra == \"http\"->fsspec[http]!=2021.06.0,>=2021.05.0->pytorch-lightning==1.5.10->simplet5==0.1.4) (1.3.0)\n",
            "Requirement already satisfied: attrs>=17.3.0 in /share/apps/python/3.8.6/intel/lib/python3.8/site-packages (from aiohttp; extra == \"http\"->fsspec[http]!=2021.06.0,>=2021.05.0->pytorch-lightning==1.5.10->simplet5==0.1.4) (20.2.0)\n",
            "Requirement already satisfied: cachetools<6.0,>=2.0.0 in /home/sm9669/.local/lib/python3.8/site-packages (from google-auth<3,>=1.6.3->tensorboard>=2.2.0->pytorch-lightning==1.5.10->simplet5==0.1.4) (5.0.0)\n",
            "Requirement already satisfied: pyasn1-modules>=0.2.1 in /home/sm9669/.local/lib/python3.8/site-packages (from google-auth<3,>=1.6.3->tensorboard>=2.2.0->pytorch-lightning==1.5.10->simplet5==0.1.4) (0.2.8)\n",
            "Requirement already satisfied: rsa<5,>=3.1.4; python_version >= \"3.6\" in /home/sm9669/.local/lib/python3.8/site-packages (from google-auth<3,>=1.6.3->tensorboard>=2.2.0->pytorch-lightning==1.5.10->simplet5==0.1.4) (4.8)\n",
            "Requirement already satisfied: requests-oauthlib>=0.7.0 in /home/sm9669/.local/lib/python3.8/site-packages (from google-auth-oauthlib<0.5,>=0.4.1->tensorboard>=2.2.0->pytorch-lightning==1.5.10->simplet5==0.1.4) (1.3.1)\n",
            "Requirement already satisfied: importlib-metadata>=4.4; python_version < \"3.10\" in /home/sm9669/.local/lib/python3.8/site-packages (from markdown>=2.6.8->tensorboard>=2.2.0->pytorch-lightning==1.5.10->simplet5==0.1.4) (4.11.3)\n",
            "Requirement already satisfied: pyasn1<0.5.0,>=0.4.6 in /home/sm9669/.local/lib/python3.8/site-packages (from pyasn1-modules>=0.2.1->google-auth<3,>=1.6.3->tensorboard>=2.2.0->pytorch-lightning==1.5.10->simplet5==0.1.4) (0.4.8)\n",
            "Requirement already satisfied: oauthlib>=3.0.0 in /share/apps/python/3.8.6/intel/lib/python3.8/site-packages (from requests-oauthlib>=0.7.0->google-auth-oauthlib<0.5,>=0.4.1->tensorboard>=2.2.0->pytorch-lightning==1.5.10->simplet5==0.1.4) (3.1.0)\n",
            "Requirement already satisfied: zipp>=0.5 in /home/sm9669/.local/lib/python3.8/site-packages (from importlib-metadata>=4.4; python_version < \"3.10\"->markdown>=2.6.8->tensorboard>=2.2.0->pytorch-lightning==1.5.10->simplet5==0.1.4) (3.8.0)\n",
            "Building wheels for collected packages: simplet5\n",
            "  Building wheel for simplet5 (setup.py) ... \u001b[?25ldone\n",
            "\u001b[?25h  Created wheel for simplet5: filename=simplet5-0.1.4-py3-none-any.whl size=7688 sha256=54c7420b0b924b5e9493932c3216f4a65adf4644058398da8eecfae0666bf4e1\n",
            "  Stored in directory: /home/sm9669/.cache/pip/wheels/1c/62/9d/c5335bdf629f4fe2e365307ca619779d398cf24ddfecbadb23\n",
            "Successfully built simplet5\n",
            "Installing collected packages: transformers, simplet5, setuptools\n",
            "  Attempting uninstall: transformers\n",
            "    Found existing installation: transformers 4.18.0\n",
            "    Uninstalling transformers-4.18.0:\n",
            "      Successfully uninstalled transformers-4.18.0\n",
            "  Attempting uninstall: simplet5\n",
            "    Found existing installation: simplet5 0.1.4\n",
            "    Uninstalling simplet5-0.1.4:\n",
            "      Successfully uninstalled simplet5-0.1.4\n",
            "Successfully installed setuptools-59.5.0 simplet5-0.1.4 transformers-4.16.2\n",
            "\u001b[33mWARNING: You are using pip version 20.2.3; however, version 22.0.4 is available.\n",
            "You should consider upgrading via the '/share/apps/python/3.8.6/intel/bin/python -m pip install --upgrade pip' command.\u001b[0m\n"
          ]
        }
      ],
      "source": [
        "!pip install ."
      ]
    },
    {
      "cell_type": "code",
      "execution_count": null,
      "metadata": {
        "id": "ZjWlzAXi2Z2P"
      },
      "outputs": [],
      "source": [
        "!pip install --upgrade pip"
      ]
    },
    {
      "cell_type": "code",
      "execution_count": null,
      "metadata": {
        "scrolled": false,
        "id": "C1x5HnJK2Z2P",
        "outputId": "44f44dce-0deb-44d8-f290-b1d61aa3fe5b"
      },
      "outputs": [
        {
          "name": "stdout",
          "output_type": "stream",
          "text": [
            "Defaulting to user installation because normal site-packages is not writeable\n",
            "Requirement already satisfied: sklearn in /home/sm9669/.local/lib/python3.8/site-packages (0.0)\n",
            "Requirement already satisfied: scikit-learn in /home/sm9669/.local/lib/python3.8/site-packages (from sklearn) (1.0.2)\n",
            "Requirement already satisfied: numpy>=1.14.6 in /share/apps/python/3.8.6/intel/lib/python3.8/site-packages/numpy-1.19.2-py3.8-linux-x86_64.egg (from scikit-learn->sklearn) (1.19.2)\n",
            "Requirement already satisfied: scipy>=1.1.0 in /share/apps/python/3.8.6/intel/lib/python3.8/site-packages/scipy-1.5.2-py3.8-linux-x86_64.egg (from scikit-learn->sklearn) (1.5.2)\n",
            "Requirement already satisfied: joblib>=0.11 in /home/sm9669/.local/lib/python3.8/site-packages (from scikit-learn->sklearn) (1.1.0)\n",
            "Requirement already satisfied: threadpoolctl>=2.0.0 in /home/sm9669/.local/lib/python3.8/site-packages (from scikit-learn->sklearn) (3.1.0)\n",
            "\u001b[33mWARNING: You are using pip version 20.2.3; however, version 22.0.4 is available.\n",
            "You should consider upgrading via the '/share/apps/python/3.8.6/intel/bin/python -m pip install --upgrade pip' command.\u001b[0m\n",
            "Note: you may need to restart the kernel to use updated packages.\n"
          ]
        }
      ],
      "source": [
        "pip install sklearn"
      ]
    },
    {
      "cell_type": "code",
      "execution_count": null,
      "metadata": {
        "id": "ZRRHTm652Z2P"
      },
      "outputs": [],
      "source": [
        "from sklearn.model_selection import train_test_split"
      ]
    },
    {
      "cell_type": "code",
      "execution_count": null,
      "metadata": {
        "id": "NPrqUFdg2Z2P"
      },
      "outputs": [],
      "source": [
        "import random\n",
        "import numpy as np\n",
        "import torch \n",
        "def set_seed(seed):\n",
        "    random.seed(seed)\n",
        "    np.random.seed(seed)\n",
        "    torch.manual_seed(seed)\n",
        "    if torch.cuda.is_available():\n",
        "        torch.cuda.manual_seed_all(seed)\n",
        "\n",
        "set_seed(42)"
      ]
    },
    {
      "cell_type": "code",
      "execution_count": null,
      "metadata": {
        "scrolled": false,
        "id": "RkL5j7-32Z2P"
      },
      "outputs": [],
      "source": [
        "import numpy as np\n",
        "import pandas as pd\n",
        "train=pd.read_json('/scratch/sm9669/Sarcasm_Headlines_Dataset_v2.json',lines=True)\n",
        "train = train.rename(columns={'is_sarcastic': 'target_text', 'headline': 'source_text'})\n",
        "for index, row in train.iterrows():\n",
        "    if train.iloc[index]['target_text']==1:\n",
        "        train.replace(to_replace=1, value =  'sarcasm', inplace=True)\n",
        "    else:\n",
        "        train.replace(to_replace=0,value =  'not sarcasm',inplace=True)\n",
        "\n"
      ]
    },
    {
      "cell_type": "code",
      "execution_count": null,
      "metadata": {
        "id": "Dux0GsFb2Z2Q"
      },
      "outputs": [],
      "source": [
        "# from tqdm import tqdm\n",
        "# m = -1\n",
        "# mi=1000000000000\n",
        "# for index, row in tqdm(train.iterrows()):\n",
        "#     m = max(m,len(row['source_text']))\n",
        "#     mi=min(mi,len(row['source_text']))\n",
        "    \n",
        "# print(m,mi)"
      ]
    },
    {
      "cell_type": "code",
      "execution_count": null,
      "metadata": {
        "scrolled": false,
        "id": "IqHIa5qH2Z2Q",
        "outputId": "7934a893-4ead-4b9b-d26c-14dfb2a89f98"
      },
      "outputs": [
        {
          "data": {
            "text/html": [
              "<div>\n",
              "<style scoped>\n",
              "    .dataframe tbody tr th:only-of-type {\n",
              "        vertical-align: middle;\n",
              "    }\n",
              "\n",
              "    .dataframe tbody tr th {\n",
              "        vertical-align: top;\n",
              "    }\n",
              "\n",
              "    .dataframe thead th {\n",
              "        text-align: right;\n",
              "    }\n",
              "</style>\n",
              "<table border=\"1\" class=\"dataframe\">\n",
              "  <thead>\n",
              "    <tr style=\"text-align: right;\">\n",
              "      <th></th>\n",
              "      <th>target_text</th>\n",
              "      <th>source_text</th>\n",
              "    </tr>\n",
              "  </thead>\n",
              "  <tbody>\n",
              "    <tr>\n",
              "      <th>0</th>\n",
              "      <td>sarcasm</td>\n",
              "      <td>thirtysomething scientists unveil doomsday clo...</td>\n",
              "    </tr>\n",
              "    <tr>\n",
              "      <th>1</th>\n",
              "      <td>not sarcasm</td>\n",
              "      <td>dem rep. totally nails why congress is falling...</td>\n",
              "    </tr>\n",
              "    <tr>\n",
              "      <th>2</th>\n",
              "      <td>not sarcasm</td>\n",
              "      <td>eat your veggies: 9 deliciously different recipes</td>\n",
              "    </tr>\n",
              "    <tr>\n",
              "      <th>3</th>\n",
              "      <td>sarcasm</td>\n",
              "      <td>inclement weather prevents liar from getting t...</td>\n",
              "    </tr>\n",
              "    <tr>\n",
              "      <th>4</th>\n",
              "      <td>sarcasm</td>\n",
              "      <td>mother comes pretty close to using word 'strea...</td>\n",
              "    </tr>\n",
              "  </tbody>\n",
              "</table>\n",
              "</div>"
            ],
            "text/plain": [
              "   target_text                                        source_text\n",
              "0      sarcasm  thirtysomething scientists unveil doomsday clo...\n",
              "1  not sarcasm  dem rep. totally nails why congress is falling...\n",
              "2  not sarcasm  eat your veggies: 9 deliciously different recipes\n",
              "3      sarcasm  inclement weather prevents liar from getting t...\n",
              "4      sarcasm  mother comes pretty close to using word 'strea..."
            ]
          },
          "execution_count": 6,
          "metadata": {},
          "output_type": "execute_result"
        }
      ],
      "source": [
        "train=train.drop(['article_link'],axis=1)\n",
        "train.head()\n"
      ]
    },
    {
      "cell_type": "code",
      "execution_count": null,
      "metadata": {
        "id": "rp07HCud2Z2Q"
      },
      "outputs": [],
      "source": [
        "import random\n",
        "\n",
        "train = train.sample(frac = 1)\n",
        "train_data = train[:17171]\n",
        "test_data = train[17171:22895]\n",
        "val_data = train[22895:]"
      ]
    },
    {
      "cell_type": "code",
      "execution_count": null,
      "metadata": {
        "id": "fCcI-bOP2Z2Q",
        "outputId": "d7771d0c-d85c-4dcd-fd19-870e916a0023"
      },
      "outputs": [
        {
          "name": "stderr",
          "output_type": "stream",
          "text": [
            "Global seed set to 42\n"
          ]
        }
      ],
      "source": [
        "from simplet5 import SimpleT5"
      ]
    },
    {
      "cell_type": "code",
      "execution_count": null,
      "metadata": {
        "scrolled": true,
        "id": "5mwLUBks2Z2Q"
      },
      "outputs": [],
      "source": [
        "model = SimpleT5()\n",
        "model.from_pretrained(\"byt5\",\"google/byt5-small\")"
      ]
    },
    {
      "cell_type": "code",
      "execution_count": null,
      "metadata": {
        "scrolled": true,
        "id": "hXusEj4S2Z2Q",
        "outputId": "cd18aad3-6ef4-42e5-d3ff-43521ba14c2e",
        "colab": {
          "referenced_widgets": [
            "",
            "23b8ad6d4753459fb7e0151f14209ab9",
            "f5e4263489994efc98a7d90ca5d8af12"
          ]
        }
      },
      "outputs": [
        {
          "name": "stderr",
          "output_type": "stream",
          "text": [
            "GPU available: True, used: True\n",
            "TPU available: False, using: 0 TPU cores\n",
            "IPU available: False, using: 0 IPUs\n",
            "LOCAL_RANK: 0 - CUDA_VISIBLE_DEVICES: [0]\n",
            "Set SLURM handle signals.\n",
            "\n",
            "  | Name  | Type                       | Params\n",
            "-----------------------------------------------------\n",
            "0 | model | T5ForConditionalGeneration | 299 M \n",
            "-----------------------------------------------------\n",
            "299 M     Trainable params\n",
            "0         Non-trainable params\n",
            "299 M     Total params\n",
            "1,198.551 Total estimated model params size (MB)\n"
          ]
        },
        {
          "data": {
            "application/vnd.jupyter.widget-view+json": {
              "model_id": "",
              "version_major": 2,
              "version_minor": 0
            },
            "text/plain": [
              "Validation sanity check: 0it [00:00, ?it/s]"
            ]
          },
          "metadata": {},
          "output_type": "display_data"
        },
        {
          "name": "stderr",
          "output_type": "stream",
          "text": [
            "Global seed set to 42\n"
          ]
        },
        {
          "data": {
            "application/vnd.jupyter.widget-view+json": {
              "model_id": "23b8ad6d4753459fb7e0151f14209ab9",
              "version_major": 2,
              "version_minor": 0
            },
            "text/plain": [
              "Training: 0it [00:00, ?it/s]"
            ]
          },
          "metadata": {},
          "output_type": "display_data"
        },
        {
          "data": {
            "application/vnd.jupyter.widget-view+json": {
              "model_id": "",
              "version_major": 2,
              "version_minor": 0
            },
            "text/plain": [
              "Validating: 0it [00:00, ?it/s]"
            ]
          },
          "metadata": {},
          "output_type": "display_data"
        },
        {
          "data": {
            "application/vnd.jupyter.widget-view+json": {
              "model_id": "",
              "version_major": 2,
              "version_minor": 0
            },
            "text/plain": [
              "Validating: 0it [00:00, ?it/s]"
            ]
          },
          "metadata": {},
          "output_type": "display_data"
        },
        {
          "data": {
            "application/vnd.jupyter.widget-view+json": {
              "model_id": "",
              "version_major": 2,
              "version_minor": 0
            },
            "text/plain": [
              "Validating: 0it [00:00, ?it/s]"
            ]
          },
          "metadata": {},
          "output_type": "display_data"
        },
        {
          "data": {
            "application/vnd.jupyter.widget-view+json": {
              "model_id": "",
              "version_major": 2,
              "version_minor": 0
            },
            "text/plain": [
              "Validating: 0it [00:00, ?it/s]"
            ]
          },
          "metadata": {},
          "output_type": "display_data"
        },
        {
          "data": {
            "application/vnd.jupyter.widget-view+json": {
              "model_id": "",
              "version_major": 2,
              "version_minor": 0
            },
            "text/plain": [
              "Validating: 0it [00:00, ?it/s]"
            ]
          },
          "metadata": {},
          "output_type": "display_data"
        },
        {
          "data": {
            "application/vnd.jupyter.widget-view+json": {
              "model_id": "",
              "version_major": 2,
              "version_minor": 0
            },
            "text/plain": [
              "Validating: 0it [00:00, ?it/s]"
            ]
          },
          "metadata": {},
          "output_type": "display_data"
        },
        {
          "data": {
            "application/vnd.jupyter.widget-view+json": {
              "model_id": "",
              "version_major": 2,
              "version_minor": 0
            },
            "text/plain": [
              "Validating: 0it [00:00, ?it/s]"
            ]
          },
          "metadata": {},
          "output_type": "display_data"
        },
        {
          "data": {
            "application/vnd.jupyter.widget-view+json": {
              "model_id": "f5e4263489994efc98a7d90ca5d8af12",
              "version_major": 2,
              "version_minor": 0
            },
            "text/plain": [
              "Validating: 0it [00:00, ?it/s]"
            ]
          },
          "metadata": {},
          "output_type": "display_data"
        }
      ],
      "source": [
        "model.train(train_df=train_data, \n",
        "            eval_df=val_data, \n",
        "            source_max_token_len = 1024, \n",
        "            target_max_token_len = 16,\n",
        "            batch_size = 8,\n",
        "            max_epochs = 10,\n",
        "            use_gpu = True,\n",
        "            outputdir = \"epoch_10_outputs\",\n",
        "            early_stopping_patience_epochs = 0\n",
        "            )"
      ]
    },
    {
      "cell_type": "code",
      "execution_count": null,
      "metadata": {
        "id": "oZfun3_c2Z2Q"
      },
      "outputs": [],
      "source": [
        "from simplet5 import SimpleT5\n",
        "model = SimpleT5()"
      ]
    },
    {
      "cell_type": "code",
      "execution_count": null,
      "metadata": {
        "id": "SvOPViC-2Z2Q"
      },
      "outputs": [],
      "source": [
        "model.load_model('byt5', '/scratch/sm9669/simpleT5-main/epoch_10_outputs/simplet5-epoch-4-train-loss-0.0232-val-loss-0.0254')"
      ]
    },
    {
      "cell_type": "code",
      "execution_count": null,
      "metadata": {
        "scrolled": true,
        "id": "qMJK0dDk2Z2Q",
        "outputId": "6e980ecd-a7ac-46da-ccd3-680f75fb3211"
      },
      "outputs": [
        {
          "name": "stdout",
          "output_type": "stream",
          "text": [
            "['sarcasm']\n"
          ]
        }
      ],
      "source": [
        "test_data.head()\n",
        "x = model.predict(\"fwf\")\n",
        "print(x)"
      ]
    },
    {
      "cell_type": "code",
      "execution_count": null,
      "metadata": {
        "id": "m7IrroMi2Z2Q",
        "outputId": "ad7a0f66-38cb-4f3b-ffa2-891c6a4e0452"
      },
      "outputs": [
        {
          "name": "stderr",
          "output_type": "stream",
          "text": [
            "1it [00:00,  1.28it/s]"
          ]
        },
        {
          "name": "stdout",
          "output_type": "stream",
          "text": [
            "0 1\n"
          ]
        },
        {
          "name": "stderr",
          "output_type": "stream",
          "text": [
            "1001it [12:42,  1.36it/s]"
          ]
        },
        {
          "name": "stdout",
          "output_type": "stream",
          "text": [
            "1000 897\n"
          ]
        },
        {
          "name": "stderr",
          "output_type": "stream",
          "text": [
            "2001it [25:27,  1.31it/s]"
          ]
        },
        {
          "name": "stdout",
          "output_type": "stream",
          "text": [
            "2000 1795\n"
          ]
        },
        {
          "name": "stderr",
          "output_type": "stream",
          "text": [
            "3001it [38:05,  1.34it/s]"
          ]
        },
        {
          "name": "stdout",
          "output_type": "stream",
          "text": [
            "3000 2699\n"
          ]
        },
        {
          "name": "stderr",
          "output_type": "stream",
          "text": [
            "4001it [50:45,  1.35it/s]"
          ]
        },
        {
          "name": "stdout",
          "output_type": "stream",
          "text": [
            "4000 3605\n"
          ]
        },
        {
          "name": "stderr",
          "output_type": "stream",
          "text": [
            "5001it [1:03:25,  1.34it/s]"
          ]
        },
        {
          "name": "stdout",
          "output_type": "stream",
          "text": [
            "5000 4501\n"
          ]
        },
        {
          "name": "stderr",
          "output_type": "stream",
          "text": [
            "5724it [1:12:38,  1.31it/s]"
          ]
        },
        {
          "name": "stdout",
          "output_type": "stream",
          "text": [
            "89.86722571628232\n"
          ]
        },
        {
          "name": "stderr",
          "output_type": "stream",
          "text": [
            "\n"
          ]
        }
      ],
      "source": [
        "lis=[]\n",
        "from tqdm import tqdm\n",
        "count=0\n",
        "value=0\n",
        "for index, row in tqdm(test_data.iterrows()):\n",
        "    ans = model.predict(row['source_text'])\n",
        "    if ans[0]==row['target_text']:\n",
        "        count+=1\n",
        "    if value%1000==0:\n",
        "        print(value,count)\n",
        "    value+=1\n",
        "    lis.append(ans[0])\n",
        "\n",
        "print(count*100/5724)"
      ]
    },
    {
      "cell_type": "code",
      "execution_count": null,
      "metadata": {
        "id": "tg9YRLf92Z2R",
        "outputId": "6fdde883-1123-4dae-8d39-ae1e429ab940"
      },
      "outputs": [
        {
          "name": "stdout",
          "output_type": "stream",
          "text": [
            "Accuracy on 10 epochs 89.86722571628232\n"
          ]
        }
      ],
      "source": [
        "print(\"Accuracy on 10 epochs\",count*100/5724)"
      ]
    },
    {
      "cell_type": "code",
      "execution_count": null,
      "metadata": {
        "id": "t0AVJ2fL2Z2R"
      },
      "outputs": [],
      "source": [
        ""
      ]
    }
  ],
  "metadata": {
    "kernelspec": {
      "display_name": "Python 3",
      "language": "python",
      "name": "python3"
    },
    "language_info": {
      "codemirror_mode": {
        "name": "ipython",
        "version": 3
      },
      "file_extension": ".py",
      "mimetype": "text/x-python",
      "name": "python",
      "nbconvert_exporter": "python",
      "pygments_lexer": "ipython3",
      "version": "3.8.6"
    },
    "colab": {
      "name": "Byt5-small_News_Headline.ipynb",
      "provenance": []
    }
  },
  "nbformat": 4,
  "nbformat_minor": 0
}