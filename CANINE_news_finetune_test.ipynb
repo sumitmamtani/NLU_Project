{
 "cells": [
  {
   "cell_type": "code",
   "execution_count": 1,
   "metadata": {},
   "outputs": [
    {
     "name": "stdout",
     "output_type": "stream",
     "text": [
      "Thu May 12 13:43:00 2022       \r\n",
      "+-----------------------------------------------------------------------------+\r\n",
      "| NVIDIA-SMI 470.57.02    Driver Version: 470.57.02    CUDA Version: 11.4     |\r\n",
      "|-------------------------------+----------------------+----------------------+\r\n",
      "| GPU  Name        Persistence-M| Bus-Id        Disp.A | Volatile Uncorr. ECC |\r\n",
      "| Fan  Temp  Perf  Pwr:Usage/Cap|         Memory-Usage | GPU-Util  Compute M. |\r\n",
      "|                               |                      |               MIG M. |\r\n",
      "|===============================+======================+======================|\r\n",
      "|   0  Quadro RTX 8000     On   | 00000000:D8:00.0 Off |                    0 |\r\n",
      "| N/A   38C    P0    70W / 250W |      0MiB / 45556MiB |      0%      Default |\r\n",
      "|                               |                      |                  N/A |\r\n",
      "+-------------------------------+----------------------+----------------------+\r\n",
      "                                                                               \r\n",
      "+-----------------------------------------------------------------------------+\r\n",
      "| Processes:                                                                  |\r\n",
      "|  GPU   GI   CI        PID   Type   Process name                  GPU Memory |\r\n",
      "|        ID   ID                                                   Usage      |\r\n",
      "|=============================================================================|\r\n",
      "|  No running processes found                                                 |\r\n",
      "+-----------------------------------------------------------------------------+\r\n"
     ]
    }
   ],
   "source": [
    "!nvidia-smi"
   ]
  },
  {
   "cell_type": "code",
   "execution_count": 2,
   "metadata": {},
   "outputs": [],
   "source": [
    "path_to_json_file = 'News_dataset/Sarcasm_Headlines_Dataset_v2.json'"
   ]
  },
  {
   "cell_type": "code",
   "execution_count": 3,
   "metadata": {},
   "outputs": [],
   "source": [
    "import json \n",
    "\n",
    "with open(path_to_json_file, 'r') as j:\n",
    "     json_data = [json.loads(line) for line in j]"
   ]
  },
  {
   "cell_type": "code",
   "execution_count": 4,
   "metadata": {},
   "outputs": [],
   "source": [
    "import random \n",
    "import numpy as np\n",
    "import torch\n",
    "\n",
    "def set_seed(seed):\n",
    "  random.seed(seed)\n",
    "  np.random.seed(seed)\n",
    "  torch.manual_seed(seed)\n",
    "  if torch.cuda.is_available():\n",
    "    torch.cuda.manual_seed_all(seed)\n",
    "\n",
    "set_seed(42)"
   ]
  },
  {
   "cell_type": "code",
   "execution_count": 5,
   "metadata": {},
   "outputs": [],
   "source": [
    "import json \n",
    "di = dict()\n",
    "\n",
    "i=0\n",
    "for headline in json_data:\n",
    "    d1 = {'text': headline['headline'], 'label': headline['is_sarcastic']}\n",
    "\n",
    "    di[i] = d1\n",
    "    i+=1"
   ]
  },
  {
   "cell_type": "code",
   "execution_count": 6,
   "metadata": {},
   "outputs": [
    {
     "name": "stderr",
     "output_type": "stream",
     "text": [
      "Using unk_token, but it is not set yet.\n",
      "Using unk_token, but it is not set yet.\n",
      "Using unk_token, but it is not set yet.\n",
      "Using unk_token, but it is not set yet.\n",
      "Using unk_token, but it is not set yet.\n",
      "Using unk_token, but it is not set yet.\n",
      "Using unk_token, but it is not set yet.\n",
      "Using unk_token, but it is not set yet.\n"
     ]
    }
   ],
   "source": [
    "from transformers import CanineTokenizer, CanineForSequenceClassification\n",
    "\n",
    "tokenizer = CanineTokenizer.from_pretrained(\"google/canine-s\")"
   ]
  },
  {
   "cell_type": "code",
   "execution_count": 7,
   "metadata": {},
   "outputs": [],
   "source": [
    "tokenized_datasets = []\n",
    "for i in di:\n",
    "  l = tokenizer(di[i][\"text\"], padding=\"max_length\", truncation=True)\n",
    "  l['labels'] = di[i][\"label\"]\n",
    "  tokenized_datasets.append(l)"
   ]
  },
  {
   "cell_type": "code",
   "execution_count": 8,
   "metadata": {},
   "outputs": [],
   "source": [
    "random.shuffle(tokenized_datasets)\n",
    "\n",
    "train_data = tokenized_datasets[:17171]\n",
    "test_data = tokenized_datasets[17171:22895]\n",
    "val_data = tokenized_datasets[22895:]"
   ]
  },
  {
   "cell_type": "code",
   "execution_count": 9,
   "metadata": {},
   "outputs": [],
   "source": [
    "from transformers import DataCollatorWithPadding\n",
    "\n",
    "data_collator = DataCollatorWithPadding(tokenizer=tokenizer)"
   ]
  },
  {
   "cell_type": "code",
   "execution_count": 10,
   "metadata": {},
   "outputs": [
    {
     "name": "stderr",
     "output_type": "stream",
     "text": [
      "Some weights of CanineForSequenceClassification were not initialized from the model checkpoint at google/canine-s and are newly initialized: ['classifier.bias', 'classifier.weight']\n",
      "You should probably TRAIN this model on a down-stream task to be able to use it for predictions and inference.\n"
     ]
    }
   ],
   "source": [
    "model = CanineForSequenceClassification.from_pretrained(\"google/canine-s\", num_labels=2)"
   ]
  },
  {
   "cell_type": "code",
   "execution_count": 11,
   "metadata": {},
   "outputs": [],
   "source": [
    "from sklearn.metrics import accuracy_score, recall_score, precision_score, f1_score\n",
    "def compute_metrics(p):\n",
    "    pred, labels = p\n",
    "    pred = np.argmax(pred, axis=1)\n",
    "\n",
    "    accuracy = accuracy_score(y_true=labels, y_pred=pred)\n",
    "\n",
    "\n",
    "    return {\"accuracy\": accuracy}"
   ]
  },
  {
   "cell_type": "code",
   "execution_count": 12,
   "metadata": {
    "scrolled": true
   },
   "outputs": [
    {
     "name": "stderr",
     "output_type": "stream",
     "text": [
      "/home/mss9240/.local/lib/python3.8/site-packages/transformers/optimization.py:306: FutureWarning: This implementation of AdamW is deprecated and will be removed in a future version. Use thePyTorch implementation torch.optim.AdamW instead, or set `no_deprecation_warning=True` to disable this warning\n",
      "  warnings.warn(\n",
      "***** Running training *****\n",
      "  Num examples = 17171\n",
      "  Num Epochs = 8\n",
      "  Instantaneous batch size per device = 16\n",
      "  Total train batch size (w. parallel, distributed & accumulation) = 16\n",
      "  Gradient Accumulation steps = 1\n",
      "  Total optimization steps = 8592\n"
     ]
    },
    {
     "data": {
      "text/html": [
       "\n",
       "    <div>\n",
       "      \n",
       "      <progress value='8592' max='8592' style='width:300px; height:20px; vertical-align: middle;'></progress>\n",
       "      [8592/8592 2:41:16, Epoch 8/8]\n",
       "    </div>\n",
       "    <table border=\"1\" class=\"dataframe\">\n",
       "  <thead>\n",
       " <tr style=\"text-align: left;\">\n",
       "      <th>Epoch</th>\n",
       "      <th>Training Loss</th>\n",
       "      <th>Validation Loss</th>\n",
       "      <th>Accuracy</th>\n",
       "    </tr>\n",
       "  </thead>\n",
       "  <tbody>\n",
       "    <tr>\n",
       "      <td>1</td>\n",
       "      <td>0.448500</td>\n",
       "      <td>0.356031</td>\n",
       "      <td>0.848532</td>\n",
       "    </tr>\n",
       "    <tr>\n",
       "      <td>2</td>\n",
       "      <td>0.339000</td>\n",
       "      <td>0.311424</td>\n",
       "      <td>0.870370</td>\n",
       "    </tr>\n",
       "    <tr>\n",
       "      <td>3</td>\n",
       "      <td>0.262300</td>\n",
       "      <td>0.356483</td>\n",
       "      <td>0.863033</td>\n",
       "    </tr>\n",
       "    <tr>\n",
       "      <td>4</td>\n",
       "      <td>0.201300</td>\n",
       "      <td>0.377556</td>\n",
       "      <td>0.887491</td>\n",
       "    </tr>\n",
       "    <tr>\n",
       "      <td>5</td>\n",
       "      <td>0.165400</td>\n",
       "      <td>0.521560</td>\n",
       "      <td>0.878407</td>\n",
       "    </tr>\n",
       "    <tr>\n",
       "      <td>6</td>\n",
       "      <td>0.142700</td>\n",
       "      <td>0.510373</td>\n",
       "      <td>0.891684</td>\n",
       "    </tr>\n",
       "    <tr>\n",
       "      <td>7</td>\n",
       "      <td>0.111200</td>\n",
       "      <td>0.571992</td>\n",
       "      <td>0.889762</td>\n",
       "    </tr>\n",
       "    <tr>\n",
       "      <td>8</td>\n",
       "      <td>0.099400</td>\n",
       "      <td>0.571963</td>\n",
       "      <td>0.890112</td>\n",
       "    </tr>\n",
       "  </tbody>\n",
       "</table><p>"
      ],
      "text/plain": [
       "<IPython.core.display.HTML object>"
      ]
     },
     "metadata": {},
     "output_type": "display_data"
    },
    {
     "name": "stderr",
     "output_type": "stream",
     "text": [
      "***** Running Evaluation *****\n",
      "  Num examples = 5724\n",
      "  Batch size = 16\n",
      "Saving model checkpoint to test_trainer/new_ep/news/8_ep/checkpoint-1074\n",
      "Configuration saved in test_trainer/new_ep/news/8_ep/checkpoint-1074/config.json\n",
      "Model weights saved in test_trainer/new_ep/news/8_ep/checkpoint-1074/pytorch_model.bin\n",
      "tokenizer config file saved in test_trainer/new_ep/news/8_ep/checkpoint-1074/tokenizer_config.json\n",
      "Special tokens file saved in test_trainer/new_ep/news/8_ep/checkpoint-1074/special_tokens_map.json\n",
      "***** Running Evaluation *****\n",
      "  Num examples = 5724\n",
      "  Batch size = 16\n",
      "Saving model checkpoint to test_trainer/new_ep/news/8_ep/checkpoint-2148\n",
      "Configuration saved in test_trainer/new_ep/news/8_ep/checkpoint-2148/config.json\n",
      "Model weights saved in test_trainer/new_ep/news/8_ep/checkpoint-2148/pytorch_model.bin\n",
      "tokenizer config file saved in test_trainer/new_ep/news/8_ep/checkpoint-2148/tokenizer_config.json\n",
      "Special tokens file saved in test_trainer/new_ep/news/8_ep/checkpoint-2148/special_tokens_map.json\n",
      "***** Running Evaluation *****\n",
      "  Num examples = 5724\n",
      "  Batch size = 16\n",
      "Saving model checkpoint to test_trainer/new_ep/news/8_ep/checkpoint-3222\n",
      "Configuration saved in test_trainer/new_ep/news/8_ep/checkpoint-3222/config.json\n",
      "Model weights saved in test_trainer/new_ep/news/8_ep/checkpoint-3222/pytorch_model.bin\n",
      "tokenizer config file saved in test_trainer/new_ep/news/8_ep/checkpoint-3222/tokenizer_config.json\n",
      "Special tokens file saved in test_trainer/new_ep/news/8_ep/checkpoint-3222/special_tokens_map.json\n",
      "***** Running Evaluation *****\n",
      "  Num examples = 5724\n",
      "  Batch size = 16\n",
      "Saving model checkpoint to test_trainer/new_ep/news/8_ep/checkpoint-4296\n",
      "Configuration saved in test_trainer/new_ep/news/8_ep/checkpoint-4296/config.json\n",
      "Model weights saved in test_trainer/new_ep/news/8_ep/checkpoint-4296/pytorch_model.bin\n",
      "tokenizer config file saved in test_trainer/new_ep/news/8_ep/checkpoint-4296/tokenizer_config.json\n",
      "Special tokens file saved in test_trainer/new_ep/news/8_ep/checkpoint-4296/special_tokens_map.json\n",
      "***** Running Evaluation *****\n",
      "  Num examples = 5724\n",
      "  Batch size = 16\n",
      "Saving model checkpoint to test_trainer/new_ep/news/8_ep/checkpoint-5370\n",
      "Configuration saved in test_trainer/new_ep/news/8_ep/checkpoint-5370/config.json\n",
      "Model weights saved in test_trainer/new_ep/news/8_ep/checkpoint-5370/pytorch_model.bin\n",
      "tokenizer config file saved in test_trainer/new_ep/news/8_ep/checkpoint-5370/tokenizer_config.json\n",
      "Special tokens file saved in test_trainer/new_ep/news/8_ep/checkpoint-5370/special_tokens_map.json\n",
      "***** Running Evaluation *****\n",
      "  Num examples = 5724\n",
      "  Batch size = 16\n",
      "Saving model checkpoint to test_trainer/new_ep/news/8_ep/checkpoint-6444\n",
      "Configuration saved in test_trainer/new_ep/news/8_ep/checkpoint-6444/config.json\n",
      "Model weights saved in test_trainer/new_ep/news/8_ep/checkpoint-6444/pytorch_model.bin\n",
      "tokenizer config file saved in test_trainer/new_ep/news/8_ep/checkpoint-6444/tokenizer_config.json\n",
      "Special tokens file saved in test_trainer/new_ep/news/8_ep/checkpoint-6444/special_tokens_map.json\n",
      "***** Running Evaluation *****\n",
      "  Num examples = 5724\n",
      "  Batch size = 16\n",
      "Saving model checkpoint to test_trainer/new_ep/news/8_ep/checkpoint-7518\n",
      "Configuration saved in test_trainer/new_ep/news/8_ep/checkpoint-7518/config.json\n",
      "Model weights saved in test_trainer/new_ep/news/8_ep/checkpoint-7518/pytorch_model.bin\n",
      "tokenizer config file saved in test_trainer/new_ep/news/8_ep/checkpoint-7518/tokenizer_config.json\n",
      "Special tokens file saved in test_trainer/new_ep/news/8_ep/checkpoint-7518/special_tokens_map.json\n",
      "***** Running Evaluation *****\n",
      "  Num examples = 5724\n",
      "  Batch size = 16\n",
      "Saving model checkpoint to test_trainer/new_ep/news/8_ep/checkpoint-8592\n",
      "Configuration saved in test_trainer/new_ep/news/8_ep/checkpoint-8592/config.json\n",
      "Model weights saved in test_trainer/new_ep/news/8_ep/checkpoint-8592/pytorch_model.bin\n",
      "tokenizer config file saved in test_trainer/new_ep/news/8_ep/checkpoint-8592/tokenizer_config.json\n",
      "Special tokens file saved in test_trainer/new_ep/news/8_ep/checkpoint-8592/special_tokens_map.json\n",
      "\n",
      "\n",
      "Training completed. Do not forget to share your model on huggingface.co/models =)\n",
      "\n",
      "\n"
     ]
    },
    {
     "data": {
      "text/plain": [
       "TrainOutput(global_step=8592, training_loss=0.23356557014490195, metrics={'train_runtime': 9678.0912, 'train_samples_per_second': 14.194, 'train_steps_per_second': 0.888, 'total_flos': 1.8045559890935808e+17, 'train_loss': 0.23356557014490195, 'epoch': 8.0})"
      ]
     },
     "execution_count": 12,
     "metadata": {},
     "output_type": "execute_result"
    }
   ],
   "source": [
    "from transformers import TrainingArguments, Trainer\n",
    "\n",
    "training_args = TrainingArguments(\n",
    "    output_dir=\"test_trainer/new_ep/news/8_ep\",\n",
    "    learning_rate=1e-5,\n",
    "    per_device_train_batch_size=16,\n",
    "    per_device_eval_batch_size=16,\n",
    "    num_train_epochs=8,\n",
    "    weight_decay=0.01,\n",
    "    evaluation_strategy='epoch',\n",
    "    save_strategy='epoch'\n",
    ")\n",
    "\n",
    "trainer = Trainer(\n",
    "    model=model,\n",
    "    args=training_args,\n",
    "    train_dataset=train_data,\n",
    "    eval_dataset=val_data,\n",
    "    tokenizer=tokenizer,\n",
    "    data_collator=data_collator,\n",
    "    compute_metrics=compute_metrics\n",
    ")\n",
    "\n",
    "trainer.train()"
   ]
  },
  {
   "cell_type": "code",
   "execution_count": 13,
   "metadata": {
    "scrolled": true
   },
   "outputs": [
    {
     "name": "stderr",
     "output_type": "stream",
     "text": [
      "***** Running Evaluation *****\n",
      "  Num examples = 5724\n",
      "  Batch size = 16\n"
     ]
    },
    {
     "data": {
      "text/html": [
       "\n",
       "    <div>\n",
       "      \n",
       "      <progress value='358' max='358' style='width:300px; height:20px; vertical-align: middle;'></progress>\n",
       "      [358/358 02:30]\n",
       "    </div>\n",
       "    "
      ],
      "text/plain": [
       "<IPython.core.display.HTML object>"
      ]
     },
     "metadata": {},
     "output_type": "display_data"
    },
    {
     "data": {
      "text/plain": [
       "{'eval_loss': 0.629116952419281,\n",
       " 'eval_accuracy': 0.8801537386443047,\n",
       " 'eval_runtime': 150.7367,\n",
       " 'eval_samples_per_second': 37.974,\n",
       " 'eval_steps_per_second': 2.375,\n",
       " 'epoch': 8.0}"
      ]
     },
     "execution_count": 13,
     "metadata": {},
     "output_type": "execute_result"
    }
   ],
   "source": [
    "trainer.evaluate(eval_dataset = test_data)"
   ]
  },
  {
   "cell_type": "code",
   "execution_count": 14,
   "metadata": {},
   "outputs": [
    {
     "name": "stderr",
     "output_type": "stream",
     "text": [
      "Saving model checkpoint to test_trainer/new_ep/news/8_ep/model\n",
      "Configuration saved in test_trainer/new_ep/news/8_ep/model/config.json\n",
      "Model weights saved in test_trainer/new_ep/news/8_ep/model/pytorch_model.bin\n",
      "tokenizer config file saved in test_trainer/new_ep/news/8_ep/model/tokenizer_config.json\n",
      "Special tokens file saved in test_trainer/new_ep/news/8_ep/model/special_tokens_map.json\n"
     ]
    }
   ],
   "source": [
    "trainer.save_model(\"test_trainer/new_ep/news/8_ep/model\")"
   ]
  },
  {
   "cell_type": "code",
   "execution_count": 16,
   "metadata": {},
   "outputs": [
    {
     "name": "stderr",
     "output_type": "stream",
     "text": [
      "loading configuration file test_trainer/new_ep/news/8_ep/checkpoint-2148/config.json\n",
      "Model config CanineConfig {\n",
      "  \"_name_or_path\": \"google/canine-s\",\n",
      "  \"architectures\": [\n",
      "    \"CanineForSequenceClassification\"\n",
      "  ],\n",
      "  \"attention_probs_dropout_prob\": 0.1,\n",
      "  \"bos_token_id\": 57344,\n",
      "  \"downsampling_rate\": 4,\n",
      "  \"eos_token_id\": 57345,\n",
      "  \"hidden_act\": \"gelu\",\n",
      "  \"hidden_dropout_prob\": 0.1,\n",
      "  \"hidden_size\": 768,\n",
      "  \"initializer_range\": 0.02,\n",
      "  \"intermediate_size\": 3072,\n",
      "  \"layer_norm_eps\": 1e-12,\n",
      "  \"local_transformer_stride\": 128,\n",
      "  \"max_position_embeddings\": 16384,\n",
      "  \"model_type\": \"canine\",\n",
      "  \"num_attention_heads\": 12,\n",
      "  \"num_hash_buckets\": 16384,\n",
      "  \"num_hash_functions\": 8,\n",
      "  \"num_hidden_layers\": 12,\n",
      "  \"pad_token_id\": 0,\n",
      "  \"problem_type\": \"single_label_classification\",\n",
      "  \"torch_dtype\": \"float32\",\n",
      "  \"transformers_version\": \"4.16.2\",\n",
      "  \"type_vocab_size\": 16,\n",
      "  \"upsampling_kernel_size\": 4,\n",
      "  \"use_cache\": true\n",
      "}\n",
      "\n",
      "loading weights file test_trainer/new_ep/news/8_ep/checkpoint-2148/pytorch_model.bin\n"
     ]
    },
    {
     "name": "stdout",
     "output_type": "stream",
     "text": [
      "checkpoint-2148\n"
     ]
    },
    {
     "name": "stderr",
     "output_type": "stream",
     "text": [
      "All model checkpoint weights were used when initializing CanineForSequenceClassification.\n",
      "\n",
      "All the weights of CanineForSequenceClassification were initialized from the model checkpoint at test_trainer/new_ep/news/8_ep/checkpoint-2148.\n",
      "If your task is similar to the task the model of the checkpoint was trained on, you can already use CanineForSequenceClassification for predictions without further training.\n",
      "***** Running Evaluation *****\n",
      "  Num examples = 5724\n",
      "  Batch size = 16\n"
     ]
    },
    {
     "data": {
      "text/html": [
       "\n",
       "    <div>\n",
       "      \n",
       "      <progress value='358' max='358' style='width:300px; height:20px; vertical-align: middle;'></progress>\n",
       "      [358/358 02:28]\n",
       "    </div>\n",
       "    "
      ],
      "text/plain": [
       "<IPython.core.display.HTML object>"
      ]
     },
     "metadata": {},
     "output_type": "display_data"
    },
    {
     "name": "stderr",
     "output_type": "stream",
     "text": [
      "loading configuration file test_trainer/new_ep/news/8_ep/checkpoint-5370/config.json\n",
      "Model config CanineConfig {\n",
      "  \"_name_or_path\": \"google/canine-s\",\n",
      "  \"architectures\": [\n",
      "    \"CanineForSequenceClassification\"\n",
      "  ],\n",
      "  \"attention_probs_dropout_prob\": 0.1,\n",
      "  \"bos_token_id\": 57344,\n",
      "  \"downsampling_rate\": 4,\n",
      "  \"eos_token_id\": 57345,\n",
      "  \"hidden_act\": \"gelu\",\n",
      "  \"hidden_dropout_prob\": 0.1,\n",
      "  \"hidden_size\": 768,\n",
      "  \"initializer_range\": 0.02,\n",
      "  \"intermediate_size\": 3072,\n",
      "  \"layer_norm_eps\": 1e-12,\n",
      "  \"local_transformer_stride\": 128,\n",
      "  \"max_position_embeddings\": 16384,\n",
      "  \"model_type\": \"canine\",\n",
      "  \"num_attention_heads\": 12,\n",
      "  \"num_hash_buckets\": 16384,\n",
      "  \"num_hash_functions\": 8,\n",
      "  \"num_hidden_layers\": 12,\n",
      "  \"pad_token_id\": 0,\n",
      "  \"problem_type\": \"single_label_classification\",\n",
      "  \"torch_dtype\": \"float32\",\n",
      "  \"transformers_version\": \"4.16.2\",\n",
      "  \"type_vocab_size\": 16,\n",
      "  \"upsampling_kernel_size\": 4,\n",
      "  \"use_cache\": true\n",
      "}\n",
      "\n",
      "loading weights file test_trainer/new_ep/news/8_ep/checkpoint-5370/pytorch_model.bin\n"
     ]
    },
    {
     "name": "stdout",
     "output_type": "stream",
     "text": [
      "{'eval_loss': 0.3223313093185425, 'eval_accuracy': 0.8570929419986024, 'eval_runtime': 148.9493, 'eval_samples_per_second': 38.429, 'eval_steps_per_second': 2.404}\n",
      "checkpoint-5370\n"
     ]
    },
    {
     "name": "stderr",
     "output_type": "stream",
     "text": [
      "All model checkpoint weights were used when initializing CanineForSequenceClassification.\n",
      "\n",
      "All the weights of CanineForSequenceClassification were initialized from the model checkpoint at test_trainer/new_ep/news/8_ep/checkpoint-5370.\n",
      "If your task is similar to the task the model of the checkpoint was trained on, you can already use CanineForSequenceClassification for predictions without further training.\n",
      "***** Running Evaluation *****\n",
      "  Num examples = 5724\n",
      "  Batch size = 16\n"
     ]
    },
    {
     "data": {
      "text/html": [
       "\n",
       "    <div>\n",
       "      \n",
       "      <progress value='358' max='358' style='width:300px; height:20px; vertical-align: middle;'></progress>\n",
       "      [358/358 02:28]\n",
       "    </div>\n",
       "    "
      ],
      "text/plain": [
       "<IPython.core.display.HTML object>"
      ]
     },
     "metadata": {},
     "output_type": "display_data"
    },
    {
     "name": "stderr",
     "output_type": "stream",
     "text": [
      "loading configuration file test_trainer/new_ep/news/8_ep/checkpoint-8592/config.json\n",
      "Model config CanineConfig {\n",
      "  \"_name_or_path\": \"google/canine-s\",\n",
      "  \"architectures\": [\n",
      "    \"CanineForSequenceClassification\"\n",
      "  ],\n",
      "  \"attention_probs_dropout_prob\": 0.1,\n",
      "  \"bos_token_id\": 57344,\n",
      "  \"downsampling_rate\": 4,\n",
      "  \"eos_token_id\": 57345,\n",
      "  \"hidden_act\": \"gelu\",\n",
      "  \"hidden_dropout_prob\": 0.1,\n",
      "  \"hidden_size\": 768,\n",
      "  \"initializer_range\": 0.02,\n",
      "  \"intermediate_size\": 3072,\n",
      "  \"layer_norm_eps\": 1e-12,\n",
      "  \"local_transformer_stride\": 128,\n",
      "  \"max_position_embeddings\": 16384,\n",
      "  \"model_type\": \"canine\",\n",
      "  \"num_attention_heads\": 12,\n",
      "  \"num_hash_buckets\": 16384,\n",
      "  \"num_hash_functions\": 8,\n",
      "  \"num_hidden_layers\": 12,\n",
      "  \"pad_token_id\": 0,\n",
      "  \"problem_type\": \"single_label_classification\",\n",
      "  \"torch_dtype\": \"float32\",\n",
      "  \"transformers_version\": \"4.16.2\",\n",
      "  \"type_vocab_size\": 16,\n",
      "  \"upsampling_kernel_size\": 4,\n",
      "  \"use_cache\": true\n",
      "}\n",
      "\n",
      "loading weights file test_trainer/new_ep/news/8_ep/checkpoint-8592/pytorch_model.bin\n"
     ]
    },
    {
     "name": "stdout",
     "output_type": "stream",
     "text": [
      "{'eval_loss': 0.5665903091430664, 'eval_accuracy': 0.8710691823899371, 'eval_runtime': 148.4543, 'eval_samples_per_second': 38.557, 'eval_steps_per_second': 2.412}\n",
      "checkpoint-8592\n"
     ]
    },
    {
     "name": "stderr",
     "output_type": "stream",
     "text": [
      "All model checkpoint weights were used when initializing CanineForSequenceClassification.\n",
      "\n",
      "All the weights of CanineForSequenceClassification were initialized from the model checkpoint at test_trainer/new_ep/news/8_ep/checkpoint-8592.\n",
      "If your task is similar to the task the model of the checkpoint was trained on, you can already use CanineForSequenceClassification for predictions without further training.\n",
      "***** Running Evaluation *****\n",
      "  Num examples = 5724\n",
      "  Batch size = 16\n"
     ]
    },
    {
     "data": {
      "text/html": [
       "\n",
       "    <div>\n",
       "      \n",
       "      <progress value='358' max='358' style='width:300px; height:20px; vertical-align: middle;'></progress>\n",
       "      [358/358 02:27]\n",
       "    </div>\n",
       "    "
      ],
      "text/plain": [
       "<IPython.core.display.HTML object>"
      ]
     },
     "metadata": {},
     "output_type": "display_data"
    },
    {
     "name": "stderr",
     "output_type": "stream",
     "text": [
      "loading configuration file test_trainer/new_ep/news/8_ep/checkpoint-4296/config.json\n",
      "Model config CanineConfig {\n",
      "  \"_name_or_path\": \"google/canine-s\",\n",
      "  \"architectures\": [\n",
      "    \"CanineForSequenceClassification\"\n",
      "  ],\n",
      "  \"attention_probs_dropout_prob\": 0.1,\n",
      "  \"bos_token_id\": 57344,\n",
      "  \"downsampling_rate\": 4,\n",
      "  \"eos_token_id\": 57345,\n",
      "  \"hidden_act\": \"gelu\",\n",
      "  \"hidden_dropout_prob\": 0.1,\n",
      "  \"hidden_size\": 768,\n",
      "  \"initializer_range\": 0.02,\n",
      "  \"intermediate_size\": 3072,\n",
      "  \"layer_norm_eps\": 1e-12,\n",
      "  \"local_transformer_stride\": 128,\n",
      "  \"max_position_embeddings\": 16384,\n",
      "  \"model_type\": \"canine\",\n",
      "  \"num_attention_heads\": 12,\n",
      "  \"num_hash_buckets\": 16384,\n",
      "  \"num_hash_functions\": 8,\n",
      "  \"num_hidden_layers\": 12,\n",
      "  \"pad_token_id\": 0,\n",
      "  \"problem_type\": \"single_label_classification\",\n",
      "  \"torch_dtype\": \"float32\",\n",
      "  \"transformers_version\": \"4.16.2\",\n",
      "  \"type_vocab_size\": 16,\n",
      "  \"upsampling_kernel_size\": 4,\n",
      "  \"use_cache\": true\n",
      "}\n",
      "\n",
      "loading weights file test_trainer/new_ep/news/8_ep/checkpoint-4296/pytorch_model.bin\n"
     ]
    },
    {
     "name": "stdout",
     "output_type": "stream",
     "text": [
      "{'eval_loss': 0.629116952419281, 'eval_accuracy': 0.8801537386443047, 'eval_runtime': 148.1923, 'eval_samples_per_second': 38.625, 'eval_steps_per_second': 2.416}\n",
      "checkpoint-4296\n"
     ]
    },
    {
     "name": "stderr",
     "output_type": "stream",
     "text": [
      "All model checkpoint weights were used when initializing CanineForSequenceClassification.\n",
      "\n",
      "All the weights of CanineForSequenceClassification were initialized from the model checkpoint at test_trainer/new_ep/news/8_ep/checkpoint-4296.\n",
      "If your task is similar to the task the model of the checkpoint was trained on, you can already use CanineForSequenceClassification for predictions without further training.\n",
      "***** Running Evaluation *****\n",
      "  Num examples = 5724\n",
      "  Batch size = 16\n"
     ]
    },
    {
     "data": {
      "text/html": [
       "\n",
       "    <div>\n",
       "      \n",
       "      <progress value='358' max='358' style='width:300px; height:20px; vertical-align: middle;'></progress>\n",
       "      [358/358 02:27]\n",
       "    </div>\n",
       "    "
      ],
      "text/plain": [
       "<IPython.core.display.HTML object>"
      ]
     },
     "metadata": {},
     "output_type": "display_data"
    },
    {
     "name": "stderr",
     "output_type": "stream",
     "text": [
      "loading configuration file test_trainer/new_ep/news/8_ep/checkpoint-1074/config.json\n",
      "Model config CanineConfig {\n",
      "  \"_name_or_path\": \"google/canine-s\",\n",
      "  \"architectures\": [\n",
      "    \"CanineForSequenceClassification\"\n",
      "  ],\n",
      "  \"attention_probs_dropout_prob\": 0.1,\n",
      "  \"bos_token_id\": 57344,\n",
      "  \"downsampling_rate\": 4,\n",
      "  \"eos_token_id\": 57345,\n",
      "  \"hidden_act\": \"gelu\",\n",
      "  \"hidden_dropout_prob\": 0.1,\n",
      "  \"hidden_size\": 768,\n",
      "  \"initializer_range\": 0.02,\n",
      "  \"intermediate_size\": 3072,\n",
      "  \"layer_norm_eps\": 1e-12,\n",
      "  \"local_transformer_stride\": 128,\n",
      "  \"max_position_embeddings\": 16384,\n",
      "  \"model_type\": \"canine\",\n",
      "  \"num_attention_heads\": 12,\n",
      "  \"num_hash_buckets\": 16384,\n",
      "  \"num_hash_functions\": 8,\n",
      "  \"num_hidden_layers\": 12,\n",
      "  \"pad_token_id\": 0,\n",
      "  \"problem_type\": \"single_label_classification\",\n",
      "  \"torch_dtype\": \"float32\",\n",
      "  \"transformers_version\": \"4.16.2\",\n",
      "  \"type_vocab_size\": 16,\n",
      "  \"upsampling_kernel_size\": 4,\n",
      "  \"use_cache\": true\n",
      "}\n",
      "\n",
      "loading weights file test_trainer/new_ep/news/8_ep/checkpoint-1074/pytorch_model.bin\n"
     ]
    },
    {
     "name": "stdout",
     "output_type": "stream",
     "text": [
      "{'eval_loss': 0.41301390528678894, 'eval_accuracy': 0.8778825995807128, 'eval_runtime': 148.2733, 'eval_samples_per_second': 38.604, 'eval_steps_per_second': 2.414}\n",
      "checkpoint-1074\n"
     ]
    },
    {
     "name": "stderr",
     "output_type": "stream",
     "text": [
      "All model checkpoint weights were used when initializing CanineForSequenceClassification.\n",
      "\n",
      "All the weights of CanineForSequenceClassification were initialized from the model checkpoint at test_trainer/new_ep/news/8_ep/checkpoint-1074.\n",
      "If your task is similar to the task the model of the checkpoint was trained on, you can already use CanineForSequenceClassification for predictions without further training.\n",
      "***** Running Evaluation *****\n",
      "  Num examples = 5724\n",
      "  Batch size = 16\n"
     ]
    },
    {
     "data": {
      "text/html": [
       "\n",
       "    <div>\n",
       "      \n",
       "      <progress value='358' max='358' style='width:300px; height:20px; vertical-align: middle;'></progress>\n",
       "      [358/358 02:27]\n",
       "    </div>\n",
       "    "
      ],
      "text/plain": [
       "<IPython.core.display.HTML object>"
      ]
     },
     "metadata": {},
     "output_type": "display_data"
    },
    {
     "name": "stderr",
     "output_type": "stream",
     "text": [
      "loading configuration file test_trainer/new_ep/news/8_ep/checkpoint-6444/config.json\n",
      "Model config CanineConfig {\n",
      "  \"_name_or_path\": \"google/canine-s\",\n",
      "  \"architectures\": [\n",
      "    \"CanineForSequenceClassification\"\n",
      "  ],\n",
      "  \"attention_probs_dropout_prob\": 0.1,\n",
      "  \"bos_token_id\": 57344,\n",
      "  \"downsampling_rate\": 4,\n",
      "  \"eos_token_id\": 57345,\n",
      "  \"hidden_act\": \"gelu\",\n",
      "  \"hidden_dropout_prob\": 0.1,\n",
      "  \"hidden_size\": 768,\n",
      "  \"initializer_range\": 0.02,\n",
      "  \"intermediate_size\": 3072,\n",
      "  \"layer_norm_eps\": 1e-12,\n",
      "  \"local_transformer_stride\": 128,\n",
      "  \"max_position_embeddings\": 16384,\n",
      "  \"model_type\": \"canine\",\n",
      "  \"num_attention_heads\": 12,\n",
      "  \"num_hash_buckets\": 16384,\n",
      "  \"num_hash_functions\": 8,\n",
      "  \"num_hidden_layers\": 12,\n",
      "  \"pad_token_id\": 0,\n",
      "  \"problem_type\": \"single_label_classification\",\n",
      "  \"torch_dtype\": \"float32\",\n",
      "  \"transformers_version\": \"4.16.2\",\n",
      "  \"type_vocab_size\": 16,\n",
      "  \"upsampling_kernel_size\": 4,\n",
      "  \"use_cache\": true\n",
      "}\n",
      "\n",
      "loading weights file test_trainer/new_ep/news/8_ep/checkpoint-6444/pytorch_model.bin\n"
     ]
    },
    {
     "name": "stdout",
     "output_type": "stream",
     "text": [
      "{'eval_loss': 0.3606850206851959, 'eval_accuracy': 0.840146750524109, 'eval_runtime': 148.3214, 'eval_samples_per_second': 38.592, 'eval_steps_per_second': 2.414}\n",
      "checkpoint-6444\n"
     ]
    },
    {
     "name": "stderr",
     "output_type": "stream",
     "text": [
      "All model checkpoint weights were used when initializing CanineForSequenceClassification.\n",
      "\n",
      "All the weights of CanineForSequenceClassification were initialized from the model checkpoint at test_trainer/new_ep/news/8_ep/checkpoint-6444.\n",
      "If your task is similar to the task the model of the checkpoint was trained on, you can already use CanineForSequenceClassification for predictions without further training.\n",
      "***** Running Evaluation *****\n",
      "  Num examples = 5724\n",
      "  Batch size = 16\n"
     ]
    },
    {
     "data": {
      "text/html": [
       "\n",
       "    <div>\n",
       "      \n",
       "      <progress value='358' max='358' style='width:300px; height:20px; vertical-align: middle;'></progress>\n",
       "      [358/358 02:27]\n",
       "    </div>\n",
       "    "
      ],
      "text/plain": [
       "<IPython.core.display.HTML object>"
      ]
     },
     "metadata": {},
     "output_type": "display_data"
    },
    {
     "name": "stderr",
     "output_type": "stream",
     "text": [
      "loading configuration file test_trainer/new_ep/news/8_ep/model/config.json\n",
      "Model config CanineConfig {\n",
      "  \"_name_or_path\": \"google/canine-s\",\n",
      "  \"architectures\": [\n",
      "    \"CanineForSequenceClassification\"\n",
      "  ],\n",
      "  \"attention_probs_dropout_prob\": 0.1,\n",
      "  \"bos_token_id\": 57344,\n",
      "  \"downsampling_rate\": 4,\n",
      "  \"eos_token_id\": 57345,\n",
      "  \"hidden_act\": \"gelu\",\n",
      "  \"hidden_dropout_prob\": 0.1,\n",
      "  \"hidden_size\": 768,\n",
      "  \"initializer_range\": 0.02,\n",
      "  \"intermediate_size\": 3072,\n",
      "  \"layer_norm_eps\": 1e-12,\n",
      "  \"local_transformer_stride\": 128,\n",
      "  \"max_position_embeddings\": 16384,\n",
      "  \"model_type\": \"canine\",\n",
      "  \"num_attention_heads\": 12,\n",
      "  \"num_hash_buckets\": 16384,\n",
      "  \"num_hash_functions\": 8,\n",
      "  \"num_hidden_layers\": 12,\n",
      "  \"pad_token_id\": 0,\n",
      "  \"problem_type\": \"single_label_classification\",\n",
      "  \"torch_dtype\": \"float32\",\n",
      "  \"transformers_version\": \"4.16.2\",\n",
      "  \"type_vocab_size\": 16,\n",
      "  \"upsampling_kernel_size\": 4,\n",
      "  \"use_cache\": true\n",
      "}\n",
      "\n",
      "loading weights file test_trainer/new_ep/news/8_ep/model/pytorch_model.bin\n"
     ]
    },
    {
     "name": "stdout",
     "output_type": "stream",
     "text": [
      "{'eval_loss': 0.5514761805534363, 'eval_accuracy': 0.88277428371768, 'eval_runtime': 148.281, 'eval_samples_per_second': 38.602, 'eval_steps_per_second': 2.414}\n",
      "model\n"
     ]
    },
    {
     "name": "stderr",
     "output_type": "stream",
     "text": [
      "All model checkpoint weights were used when initializing CanineForSequenceClassification.\n",
      "\n",
      "All the weights of CanineForSequenceClassification were initialized from the model checkpoint at test_trainer/new_ep/news/8_ep/model.\n",
      "If your task is similar to the task the model of the checkpoint was trained on, you can already use CanineForSequenceClassification for predictions without further training.\n",
      "***** Running Evaluation *****\n",
      "  Num examples = 5724\n",
      "  Batch size = 16\n"
     ]
    },
    {
     "data": {
      "text/html": [
       "\n",
       "    <div>\n",
       "      \n",
       "      <progress value='358' max='358' style='width:300px; height:20px; vertical-align: middle;'></progress>\n",
       "      [358/358 02:27]\n",
       "    </div>\n",
       "    "
      ],
      "text/plain": [
       "<IPython.core.display.HTML object>"
      ]
     },
     "metadata": {},
     "output_type": "display_data"
    },
    {
     "name": "stderr",
     "output_type": "stream",
     "text": [
      "loading configuration file test_trainer/new_ep/news/8_ep/checkpoint-7518/config.json\n",
      "Model config CanineConfig {\n",
      "  \"_name_or_path\": \"google/canine-s\",\n",
      "  \"architectures\": [\n",
      "    \"CanineForSequenceClassification\"\n",
      "  ],\n",
      "  \"attention_probs_dropout_prob\": 0.1,\n",
      "  \"bos_token_id\": 57344,\n",
      "  \"downsampling_rate\": 4,\n",
      "  \"eos_token_id\": 57345,\n",
      "  \"hidden_act\": \"gelu\",\n",
      "  \"hidden_dropout_prob\": 0.1,\n",
      "  \"hidden_size\": 768,\n",
      "  \"initializer_range\": 0.02,\n",
      "  \"intermediate_size\": 3072,\n",
      "  \"layer_norm_eps\": 1e-12,\n",
      "  \"local_transformer_stride\": 128,\n",
      "  \"max_position_embeddings\": 16384,\n",
      "  \"model_type\": \"canine\",\n",
      "  \"num_attention_heads\": 12,\n",
      "  \"num_hash_buckets\": 16384,\n",
      "  \"num_hash_functions\": 8,\n",
      "  \"num_hidden_layers\": 12,\n",
      "  \"pad_token_id\": 0,\n",
      "  \"problem_type\": \"single_label_classification\",\n",
      "  \"torch_dtype\": \"float32\",\n",
      "  \"transformers_version\": \"4.16.2\",\n",
      "  \"type_vocab_size\": 16,\n",
      "  \"upsampling_kernel_size\": 4,\n",
      "  \"use_cache\": true\n",
      "}\n",
      "\n",
      "loading weights file test_trainer/new_ep/news/8_ep/checkpoint-7518/pytorch_model.bin\n"
     ]
    },
    {
     "name": "stdout",
     "output_type": "stream",
     "text": [
      "{'eval_loss': 0.629116952419281, 'eval_accuracy': 0.8801537386443047, 'eval_runtime': 148.283, 'eval_samples_per_second': 38.602, 'eval_steps_per_second': 2.414}\n",
      "runs\n",
      "checkpoint-7518\n"
     ]
    },
    {
     "name": "stderr",
     "output_type": "stream",
     "text": [
      "All model checkpoint weights were used when initializing CanineForSequenceClassification.\n",
      "\n",
      "All the weights of CanineForSequenceClassification were initialized from the model checkpoint at test_trainer/new_ep/news/8_ep/checkpoint-7518.\n",
      "If your task is similar to the task the model of the checkpoint was trained on, you can already use CanineForSequenceClassification for predictions without further training.\n",
      "***** Running Evaluation *****\n",
      "  Num examples = 5724\n",
      "  Batch size = 16\n"
     ]
    },
    {
     "data": {
      "text/html": [
       "\n",
       "    <div>\n",
       "      \n",
       "      <progress value='358' max='358' style='width:300px; height:20px; vertical-align: middle;'></progress>\n",
       "      [358/358 02:27]\n",
       "    </div>\n",
       "    "
      ],
      "text/plain": [
       "<IPython.core.display.HTML object>"
      ]
     },
     "metadata": {},
     "output_type": "display_data"
    },
    {
     "name": "stderr",
     "output_type": "stream",
     "text": [
      "loading configuration file test_trainer/new_ep/news/8_ep/checkpoint-3222/config.json\n",
      "Model config CanineConfig {\n",
      "  \"_name_or_path\": \"google/canine-s\",\n",
      "  \"architectures\": [\n",
      "    \"CanineForSequenceClassification\"\n",
      "  ],\n",
      "  \"attention_probs_dropout_prob\": 0.1,\n",
      "  \"bos_token_id\": 57344,\n",
      "  \"downsampling_rate\": 4,\n",
      "  \"eos_token_id\": 57345,\n",
      "  \"hidden_act\": \"gelu\",\n",
      "  \"hidden_dropout_prob\": 0.1,\n",
      "  \"hidden_size\": 768,\n",
      "  \"initializer_range\": 0.02,\n",
      "  \"intermediate_size\": 3072,\n",
      "  \"layer_norm_eps\": 1e-12,\n",
      "  \"local_transformer_stride\": 128,\n",
      "  \"max_position_embeddings\": 16384,\n",
      "  \"model_type\": \"canine\",\n",
      "  \"num_attention_heads\": 12,\n",
      "  \"num_hash_buckets\": 16384,\n",
      "  \"num_hash_functions\": 8,\n",
      "  \"num_hidden_layers\": 12,\n",
      "  \"pad_token_id\": 0,\n",
      "  \"problem_type\": \"single_label_classification\",\n",
      "  \"torch_dtype\": \"float32\",\n",
      "  \"transformers_version\": \"4.16.2\",\n",
      "  \"type_vocab_size\": 16,\n",
      "  \"upsampling_kernel_size\": 4,\n",
      "  \"use_cache\": true\n",
      "}\n",
      "\n",
      "loading weights file test_trainer/new_ep/news/8_ep/checkpoint-3222/pytorch_model.bin\n"
     ]
    },
    {
     "name": "stdout",
     "output_type": "stream",
     "text": [
      "{'eval_loss': 0.6217502355575562, 'eval_accuracy': 0.8824248777078966, 'eval_runtime': 148.3326, 'eval_samples_per_second': 38.589, 'eval_steps_per_second': 2.413}\n",
      "checkpoint-3222\n"
     ]
    },
    {
     "name": "stderr",
     "output_type": "stream",
     "text": [
      "All model checkpoint weights were used when initializing CanineForSequenceClassification.\n",
      "\n",
      "All the weights of CanineForSequenceClassification were initialized from the model checkpoint at test_trainer/new_ep/news/8_ep/checkpoint-3222.\n",
      "If your task is similar to the task the model of the checkpoint was trained on, you can already use CanineForSequenceClassification for predictions without further training.\n",
      "***** Running Evaluation *****\n",
      "  Num examples = 5724\n",
      "  Batch size = 16\n"
     ]
    },
    {
     "data": {
      "text/html": [
       "\n",
       "    <div>\n",
       "      \n",
       "      <progress value='358' max='358' style='width:300px; height:20px; vertical-align: middle;'></progress>\n",
       "      [358/358 02:27]\n",
       "    </div>\n",
       "    "
      ],
      "text/plain": [
       "<IPython.core.display.HTML object>"
      ]
     },
     "metadata": {},
     "output_type": "display_data"
    },
    {
     "name": "stdout",
     "output_type": "stream",
     "text": [
      "{'eval_loss': 0.3850793242454529, 'eval_accuracy': 0.8560447239692522, 'eval_runtime': 148.2984, 'eval_samples_per_second': 38.598, 'eval_steps_per_second': 2.414}\n"
     ]
    }
   ],
   "source": [
    "import os\n",
    "for filename in os.listdir(\"test_trainer/new_ep/news/8_ep\"):\n",
    "    print (filename)\n",
    "    if filename == \"runs\":\n",
    "        continue\n",
    "    model_path = \"test_trainer/new_ep/news/8_ep/\"+filename\n",
    "    model = CanineForSequenceClassification.from_pretrained(model_path, num_labels=2)\n",
    "\n",
    "\n",
    "\n",
    "    test_trainer = Trainer(\n",
    "        model=model,\n",
    "        args=training_args,\n",
    "        train_dataset=train_data,\n",
    "        eval_dataset=val_data,\n",
    "        tokenizer=tokenizer,\n",
    "        data_collator=data_collator,\n",
    "        compute_metrics=compute_metrics\n",
    "    )\n",
    "\n",
    "    print(test_trainer.evaluate(eval_dataset = test_data))"
   ]
  },
  {
   "cell_type": "code",
   "execution_count": 18,
   "metadata": {},
   "outputs": [
    {
     "name": "stderr",
     "output_type": "stream",
     "text": [
      "loading configuration file test_trainer/new_ep/news/8_ep/checkpoint-6444/config.json\n",
      "Model config CanineConfig {\n",
      "  \"_name_or_path\": \"google/canine-s\",\n",
      "  \"architectures\": [\n",
      "    \"CanineForSequenceClassification\"\n",
      "  ],\n",
      "  \"attention_probs_dropout_prob\": 0.1,\n",
      "  \"bos_token_id\": 57344,\n",
      "  \"downsampling_rate\": 4,\n",
      "  \"eos_token_id\": 57345,\n",
      "  \"hidden_act\": \"gelu\",\n",
      "  \"hidden_dropout_prob\": 0.1,\n",
      "  \"hidden_size\": 768,\n",
      "  \"initializer_range\": 0.02,\n",
      "  \"intermediate_size\": 3072,\n",
      "  \"layer_norm_eps\": 1e-12,\n",
      "  \"local_transformer_stride\": 128,\n",
      "  \"max_position_embeddings\": 16384,\n",
      "  \"model_type\": \"canine\",\n",
      "  \"num_attention_heads\": 12,\n",
      "  \"num_hash_buckets\": 16384,\n",
      "  \"num_hash_functions\": 8,\n",
      "  \"num_hidden_layers\": 12,\n",
      "  \"pad_token_id\": 0,\n",
      "  \"problem_type\": \"single_label_classification\",\n",
      "  \"torch_dtype\": \"float32\",\n",
      "  \"transformers_version\": \"4.16.2\",\n",
      "  \"type_vocab_size\": 16,\n",
      "  \"upsampling_kernel_size\": 4,\n",
      "  \"use_cache\": true\n",
      "}\n",
      "\n",
      "loading weights file test_trainer/new_ep/news/8_ep/checkpoint-6444/pytorch_model.bin\n",
      "All model checkpoint weights were used when initializing CanineForSequenceClassification.\n",
      "\n",
      "All the weights of CanineForSequenceClassification were initialized from the model checkpoint at test_trainer/new_ep/news/8_ep/checkpoint-6444.\n",
      "If your task is similar to the task the model of the checkpoint was trained on, you can already use CanineForSequenceClassification for predictions without further training.\n",
      "***** Running Evaluation *****\n",
      "  Num examples = 5724\n",
      "  Batch size = 16\n"
     ]
    },
    {
     "data": {
      "text/html": [
       "\n",
       "    <div>\n",
       "      \n",
       "      <progress value='358' max='358' style='width:300px; height:20px; vertical-align: middle;'></progress>\n",
       "      [358/358 02:26]\n",
       "    </div>\n",
       "    "
      ],
      "text/plain": [
       "<IPython.core.display.HTML object>"
      ]
     },
     "metadata": {},
     "output_type": "display_data"
    },
    {
     "data": {
      "text/plain": [
       "{'eval_loss': 0.5514761805534363,\n",
       " 'eval_accuracy': 0.88277428371768,\n",
       " 'eval_runtime': 146.903,\n",
       " 'eval_samples_per_second': 38.964,\n",
       " 'eval_steps_per_second': 2.437}"
      ]
     },
     "execution_count": 18,
     "metadata": {},
     "output_type": "execute_result"
    }
   ],
   "source": [
    "model_path = \"test_trainer/new_ep/news/8_ep/checkpoint-6444\"\n",
    "model = CanineForSequenceClassification.from_pretrained(model_path, num_labels=2)\n",
    "\n",
    "\n",
    "\n",
    "test_trainer = Trainer(\n",
    "    model=model,\n",
    "    args=training_args,\n",
    "    train_dataset=train_data,\n",
    "    eval_dataset=val_data,\n",
    "    tokenizer=tokenizer,\n",
    "    data_collator=data_collator,\n",
    "    compute_metrics=compute_metrics\n",
    ")\n",
    "\n",
    "test_trainer.evaluate(eval_dataset = test_data)"
   ]
  },
  {
   "cell_type": "code",
   "execution_count": null,
   "metadata": {},
   "outputs": [],
   "source": []
  }
 ],
 "metadata": {
  "kernelspec": {
   "display_name": "Python 3",
   "language": "python",
   "name": "python3"
  },
  "language_info": {
   "codemirror_mode": {
    "name": "ipython",
    "version": 3
   },
   "file_extension": ".py",
   "mimetype": "text/x-python",
   "name": "python",
   "nbconvert_exporter": "python",
   "pygments_lexer": "ipython3",
   "version": "3.8.6"
  }
 },
 "nbformat": 4,
 "nbformat_minor": 4
}
